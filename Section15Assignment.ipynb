{
 "cells": [
  {
   "cell_type": "code",
   "execution_count": 1,
   "id": "3d8c2da7-9068-45ce-8ef2-d3a4d4d33411",
   "metadata": {},
   "outputs": [],
   "source": [
    "import numpy as np\n",
    "import pandas as pd\n",
    "import inventorize3 as inv"
   ]
  },
  {
   "cell_type": "code",
   "execution_count": 2,
   "id": "e3463b5f-bf69-4a70-9597-d024e9043ec4",
   "metadata": {},
   "outputs": [],
   "source": [
    "d = 6000\n",
    "c = 1500\n",
    "s = 4000\n",
    "h = 0.1"
   ]
  },
  {
   "cell_type": "code",
   "execution_count": 13,
   "id": "bc51fe83-c339-45c2-8a9a-f45e23b441cd",
   "metadata": {},
   "outputs": [],
   "source": [
    "cdisc = c*0.9"
   ]
  },
  {
   "cell_type": "code",
   "execution_count": 4,
   "id": "e4b085fd-4c93-41f7-9820-2967a8a232b6",
   "metadata": {},
   "outputs": [],
   "source": [
    "eoq = pd.DataFrame(inv.eoq(d,s,c,h),index=[0])"
   ]
  },
  {
   "cell_type": "code",
   "execution_count": 5,
   "id": "031a45c7-4394-4dd6-8f7a-3c4f55b9004b",
   "metadata": {},
   "outputs": [
    {
     "data": {
      "text/html": [
       "<div>\n",
       "<style scoped>\n",
       "    .dataframe tbody tr th:only-of-type {\n",
       "        vertical-align: middle;\n",
       "    }\n",
       "\n",
       "    .dataframe tbody tr th {\n",
       "        vertical-align: top;\n",
       "    }\n",
       "\n",
       "    .dataframe thead th {\n",
       "        text-align: right;\n",
       "    }\n",
       "</style>\n",
       "<table border=\"1\" class=\"dataframe\">\n",
       "  <thead>\n",
       "    <tr style=\"text-align: right;\">\n",
       "      <th></th>\n",
       "      <th>EOQ</th>\n",
       "      <th>T_years</th>\n",
       "      <th>T_weeks</th>\n",
       "    </tr>\n",
       "  </thead>\n",
       "  <tbody>\n",
       "    <tr>\n",
       "      <th>0</th>\n",
       "      <td>565.685425</td>\n",
       "      <td>0.094281</td>\n",
       "      <td>4.902607</td>\n",
       "    </tr>\n",
       "  </tbody>\n",
       "</table>\n",
       "</div>"
      ],
      "text/plain": [
       "          EOQ   T_years   T_weeks\n",
       "0  565.685425  0.094281  4.902607"
      ]
     },
     "execution_count": 5,
     "metadata": {},
     "output_type": "execute_result"
    }
   ],
   "source": [
    "eoq"
   ]
  },
  {
   "cell_type": "code",
   "execution_count": 6,
   "id": "8bd55af9-fe00-41d8-a325-3ccf062f17d8",
   "metadata": {},
   "outputs": [],
   "source": [
    "eoq1 = eoq.loc[0,'EOQ']"
   ]
  },
  {
   "cell_type": "code",
   "execution_count": 7,
   "id": "baf27f9d-ac37-4e0c-9877-bdebb2fc2309",
   "metadata": {},
   "outputs": [
    {
     "data": {
      "text/plain": [
       "565.685424949238"
      ]
     },
     "execution_count": 7,
     "metadata": {},
     "output_type": "execute_result"
    }
   ],
   "source": [
    "eoq1"
   ]
  },
  {
   "cell_type": "code",
   "execution_count": 17,
   "id": "f9d0183a-48b0-4170-a3a5-0d44234d9f1e",
   "metadata": {},
   "outputs": [],
   "source": [
    "tlc = d*c + (d/eoq1)*s + (eoq1/2)*h*c"
   ]
  },
  {
   "cell_type": "code",
   "execution_count": 18,
   "id": "8a043b2c-0582-40a3-94ae-8e1d57b2ed8a",
   "metadata": {},
   "outputs": [
    {
     "data": {
      "text/plain": [
       "9084852.813742384"
      ]
     },
     "execution_count": 18,
     "metadata": {},
     "output_type": "execute_result"
    }
   ],
   "source": [
    "tlc"
   ]
  },
  {
   "cell_type": "code",
   "execution_count": 12,
   "id": "4a36ddce-8b69-43e9-99b7-4cebb11a2385",
   "metadata": {},
   "outputs": [
    {
     "data": {
      "text/plain": [
       "{'Ts': 0.09428090415820634,\n",
       " 'Tstarweeks': 4.90260701622673,\n",
       " 'Qstar': 565.685424949238,\n",
       " 'Tpractical': 4,\n",
       " 'Tpracticalweeks': 4,\n",
       " 'Qpractical': 461.53846153846155}"
      ]
     },
     "execution_count": 12,
     "metadata": {},
     "output_type": "execute_result"
    }
   ],
   "source": [
    "inv.TQpractical(d,s,c,h)"
   ]
  },
  {
   "cell_type": "markdown",
   "id": "9d19d9a4-aca7-498a-9950-ffb8252826d9",
   "metadata": {},
   "source": [
    "Would you accept the offer if the Supplier offered you a 10% discount when Q = 500?\n",
    "\n",
    "YES"
   ]
  },
  {
   "cell_type": "code",
   "execution_count": 15,
   "id": "627d700c-db49-4575-b0cd-04695c4689e3",
   "metadata": {},
   "outputs": [],
   "source": [
    "tlc1 = d*cdisc + (d/500)*s + (500/2)*h*cdisc"
   ]
  },
  {
   "cell_type": "code",
   "execution_count": 16,
   "id": "7ccb2065-c4f6-4fa8-aa02-27de47e8d50c",
   "metadata": {},
   "outputs": [
    {
     "data": {
      "text/plain": [
       "8181750.0"
      ]
     },
     "execution_count": 16,
     "metadata": {},
     "output_type": "execute_result"
    }
   ],
   "source": [
    "tlc1"
   ]
  },
  {
   "cell_type": "code",
   "execution_count": 19,
   "id": "f9bf2aff-ebe6-4d14-a4a2-9fe0506f072a",
   "metadata": {},
   "outputs": [],
   "source": [
    "l = 2/12"
   ]
  },
  {
   "cell_type": "code",
   "execution_count": 20,
   "id": "fa6e46e8-8e9e-499f-a6d5-d09d3c66917f",
   "metadata": {},
   "outputs": [],
   "source": [
    "t = eoq1/d"
   ]
  },
  {
   "cell_type": "code",
   "execution_count": 23,
   "id": "20087033-ae7a-4be2-b15b-810812506650",
   "metadata": {},
   "outputs": [
    {
     "data": {
      "text/plain": [
       "0.16666666666666666"
      ]
     },
     "execution_count": 23,
     "metadata": {},
     "output_type": "execute_result"
    }
   ],
   "source": [
    "l"
   ]
  },
  {
   "cell_type": "code",
   "execution_count": 22,
   "id": "194f0ccb-e5f7-43b0-86bc-989ed4f06ab8",
   "metadata": {
    "scrolled": true
   },
   "outputs": [
    {
     "data": {
      "text/plain": [
       "0.09428090415820634"
      ]
     },
     "execution_count": 22,
     "metadata": {},
     "output_type": "execute_result"
    }
   ],
   "source": [
    "t"
   ]
  },
  {
   "cell_type": "code",
   "execution_count": 21,
   "id": "ef95b38f-9c6b-4a17-a3d8-084078e1a994",
   "metadata": {},
   "outputs": [
    {
     "data": {
      "text/plain": [
       "False"
      ]
     },
     "execution_count": 21,
     "metadata": {},
     "output_type": "execute_result"
    }
   ],
   "source": [
    "l<t"
   ]
  },
  {
   "cell_type": "code",
   "execution_count": 27,
   "id": "ce028e24-70fd-40d7-9273-dba5e78ad598",
   "metadata": {},
   "outputs": [],
   "source": [
    "l_prime = l-1*(eoq1/d)"
   ]
  },
  {
   "cell_type": "code",
   "execution_count": 28,
   "id": "17d54272-23b1-4a78-8cd6-7758abccac35",
   "metadata": {},
   "outputs": [],
   "source": [
    "reorder_point = d*l_prime"
   ]
  },
  {
   "cell_type": "code",
   "execution_count": 29,
   "id": "378d6b24-eabe-45c4-9aa7-ee2cb12f6428",
   "metadata": {},
   "outputs": [
    {
     "data": {
      "text/plain": [
       "434.3145750507619"
      ]
     },
     "execution_count": 29,
     "metadata": {},
     "output_type": "execute_result"
    }
   ],
   "source": [
    "reorder_point"
   ]
  }
 ],
 "metadata": {
  "kernelspec": {
   "display_name": "Python 3 (ipykernel)",
   "language": "python",
   "name": "python3"
  },
  "language_info": {
   "codemirror_mode": {
    "name": "ipython",
    "version": 3
   },
   "file_extension": ".py",
   "mimetype": "text/x-python",
   "name": "python",
   "nbconvert_exporter": "python",
   "pygments_lexer": "ipython3",
   "version": "3.12.4"
  }
 },
 "nbformat": 4,
 "nbformat_minor": 5
}
