{
 "cells": [
  {
   "cell_type": "code",
   "execution_count": 13,
   "id": "7740445a-f5a3-4b02-9b1d-4c3a041d4710",
   "metadata": {},
   "outputs": [],
   "source": [
    "import pandas as pd\n",
    "import numpy as np\n",
    "import scipy.stats as st\n",
    "from scipy.stats import norm,normaltest,kstest\n",
    "from sklearn.linear_model import LinearRegression"
   ]
  },
  {
   "cell_type": "code",
   "execution_count": 14,
   "id": "5886ef8b-5faf-4a16-97bb-662df03828e4",
   "metadata": {},
   "outputs": [],
   "source": [
    "pineapple_juice_data = pd.read_csv(\"C:\\\\Users\\\\Khush Bhuta\\\\Desktop\\\\python_workspace\\\\data\\\\Pinapple_juice.csv\")"
   ]
  },
  {
   "cell_type": "code",
   "execution_count": 15,
   "id": "62ba35b9-e131-4d3d-9448-0fafeb89a793",
   "metadata": {},
   "outputs": [],
   "source": [
    "pineapple_juice = np.array(pineapple_juice_data['Price'])"
   ]
  },
  {
   "cell_type": "code",
   "execution_count": 16,
   "id": "b0d48ff7-30c9-487d-ab3b-eeedff4adeba",
   "metadata": {},
   "outputs": [
    {
     "data": {
      "text/plain": [
       "(1.3883606557377053, 0.42585695151245634)"
      ]
     },
     "execution_count": 16,
     "metadata": {},
     "output_type": "execute_result"
    }
   ],
   "source": [
    "norm_param = getattr(st,'norm')\n",
    "norm_param.fit(pineapple_juice)"
   ]
  },
  {
   "cell_type": "code",
   "execution_count": 17,
   "id": "19cf7611-7757-4520-afa4-3629b5d3ab18",
   "metadata": {},
   "outputs": [
    {
     "data": {
      "text/plain": [
       "0.42585695151245634"
      ]
     },
     "execution_count": 17,
     "metadata": {},
     "output_type": "execute_result"
    }
   ],
   "source": [
    "mean = pineapple_juice.mean()\n",
    "sd = pineapple_juice.std()\n",
    "mean\n",
    "sd"
   ]
  },
  {
   "cell_type": "code",
   "execution_count": 18,
   "id": "e6d77331-6dba-4083-8827-cc7646701780",
   "metadata": {},
   "outputs": [
    {
     "data": {
      "text/plain": [
       "KstestResult(statistic=0.030419616983236697, pvalue=0.8767570617996603, statistic_location=1.38, statistic_sign=-1)"
      ]
     },
     "execution_count": 18,
     "metadata": {},
     "output_type": "execute_result"
    }
   ],
   "source": [
    "kstest(pineapple_juice,'norm',args=(mean,sd))"
   ]
  },
  {
   "cell_type": "code",
   "execution_count": 26,
   "id": "45aa191e-f4fe-40a5-87de-84ad802c2520",
   "metadata": {},
   "outputs": [],
   "source": [
    "X = pineapple_juice_data[['Price']]\n",
    "Y = pineapple_juice_data[['Pinapple juice']]\n",
    "model = LinearRegression().fit(X,Y)"
   ]
  },
  {
   "cell_type": "code",
   "execution_count": 27,
   "id": "8f0341ab-846c-44c7-b780-8aec6b4f271d",
   "metadata": {},
   "outputs": [
    {
     "data": {
      "text/plain": [
       "array([[-50.]])"
      ]
     },
     "execution_count": 27,
     "metadata": {},
     "output_type": "execute_result"
    }
   ],
   "source": [
    "model.coef_ #slope of the regression line"
   ]
  },
  {
   "cell_type": "code",
   "execution_count": 28,
   "id": "fd8385c1-2dd6-4d12-9048-b074583d1045",
   "metadata": {},
   "outputs": [
    {
     "data": {
      "text/plain": [
       "array([200.])"
      ]
     },
     "execution_count": 28,
     "metadata": {},
     "output_type": "execute_result"
    }
   ],
   "source": [
    "model.intercept_ #intercept of the regression model"
   ]
  },
  {
   "cell_type": "code",
   "execution_count": null,
   "id": "82adab9b-b9d9-40ba-8208-c0eea8735bb1",
   "metadata": {},
   "outputs": [],
   "source": []
  }
 ],
 "metadata": {
  "kernelspec": {
   "display_name": "Python 3 (ipykernel)",
   "language": "python",
   "name": "python3"
  },
  "language_info": {
   "codemirror_mode": {
    "name": "ipython",
    "version": 3
   },
   "file_extension": ".py",
   "mimetype": "text/x-python",
   "name": "python",
   "nbconvert_exporter": "python",
   "pygments_lexer": "ipython3",
   "version": "3.12.4"
  }
 },
 "nbformat": 4,
 "nbformat_minor": 5
}
