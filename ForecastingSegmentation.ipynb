{
 "cells": [
  {
   "cell_type": "code",
   "execution_count": 1,
   "id": "e9394447-878a-4849-876d-8b640f9691cf",
   "metadata": {},
   "outputs": [],
   "source": [
    "import pandas as pd\n",
    "import numpy as np\n",
    "import seaborn as sns\n",
    "import matplotlib.pyplot as plt"
   ]
  },
  {
   "cell_type": "code",
   "execution_count": 2,
   "id": "02f42262-94ed-4fe3-91ef-a25d6a99eaa7",
   "metadata": {},
   "outputs": [
    {
     "data": {
      "text/html": [
       "<div>\n",
       "<style scoped>\n",
       "    .dataframe tbody tr th:only-of-type {\n",
       "        vertical-align: middle;\n",
       "    }\n",
       "\n",
       "    .dataframe tbody tr th {\n",
       "        vertical-align: top;\n",
       "    }\n",
       "\n",
       "    .dataframe thead th {\n",
       "        text-align: right;\n",
       "    }\n",
       "</style>\n",
       "<table border=\"1\" class=\"dataframe\">\n",
       "  <thead>\n",
       "    <tr style=\"text-align: right;\">\n",
       "      <th></th>\n",
       "      <th>Invoice</th>\n",
       "      <th>StockCode</th>\n",
       "      <th>Description</th>\n",
       "      <th>Quantity</th>\n",
       "      <th>InvoiceDate</th>\n",
       "      <th>Price</th>\n",
       "      <th>Customer ID</th>\n",
       "      <th>Country</th>\n",
       "      <th>Revenue</th>\n",
       "    </tr>\n",
       "  </thead>\n",
       "  <tbody>\n",
       "    <tr>\n",
       "      <th>0</th>\n",
       "      <td>489434</td>\n",
       "      <td>85048</td>\n",
       "      <td>15CM CHRISTMAS GLASS BALL 20 LIGHTS</td>\n",
       "      <td>12</td>\n",
       "      <td>2009-12-01 07:45:00</td>\n",
       "      <td>6.95</td>\n",
       "      <td>13085.0</td>\n",
       "      <td>United Kingdom</td>\n",
       "      <td>83.4</td>\n",
       "    </tr>\n",
       "    <tr>\n",
       "      <th>1</th>\n",
       "      <td>489434</td>\n",
       "      <td>79323P</td>\n",
       "      <td>PINK CHERRY LIGHTS</td>\n",
       "      <td>12</td>\n",
       "      <td>2009-12-01 07:45:00</td>\n",
       "      <td>6.75</td>\n",
       "      <td>13085.0</td>\n",
       "      <td>United Kingdom</td>\n",
       "      <td>81.0</td>\n",
       "    </tr>\n",
       "    <tr>\n",
       "      <th>2</th>\n",
       "      <td>489434</td>\n",
       "      <td>79323W</td>\n",
       "      <td>WHITE CHERRY LIGHTS</td>\n",
       "      <td>12</td>\n",
       "      <td>2009-12-01 07:45:00</td>\n",
       "      <td>6.75</td>\n",
       "      <td>13085.0</td>\n",
       "      <td>United Kingdom</td>\n",
       "      <td>81.0</td>\n",
       "    </tr>\n",
       "    <tr>\n",
       "      <th>3</th>\n",
       "      <td>489434</td>\n",
       "      <td>22041</td>\n",
       "      <td>RECORD FRAME 7\" SINGLE SIZE</td>\n",
       "      <td>48</td>\n",
       "      <td>2009-12-01 07:45:00</td>\n",
       "      <td>2.10</td>\n",
       "      <td>13085.0</td>\n",
       "      <td>United Kingdom</td>\n",
       "      <td>100.8</td>\n",
       "    </tr>\n",
       "    <tr>\n",
       "      <th>4</th>\n",
       "      <td>489434</td>\n",
       "      <td>21232</td>\n",
       "      <td>STRAWBERRY CERAMIC TRINKET BOX</td>\n",
       "      <td>24</td>\n",
       "      <td>2009-12-01 07:45:00</td>\n",
       "      <td>1.25</td>\n",
       "      <td>13085.0</td>\n",
       "      <td>United Kingdom</td>\n",
       "      <td>30.0</td>\n",
       "    </tr>\n",
       "  </tbody>\n",
       "</table>\n",
       "</div>"
      ],
      "text/plain": [
       "   Invoice StockCode                          Description  Quantity  \\\n",
       "0   489434     85048  15CM CHRISTMAS GLASS BALL 20 LIGHTS        12   \n",
       "1   489434    79323P                   PINK CHERRY LIGHTS        12   \n",
       "2   489434    79323W                  WHITE CHERRY LIGHTS        12   \n",
       "3   489434     22041         RECORD FRAME 7\" SINGLE SIZE         48   \n",
       "4   489434     21232       STRAWBERRY CERAMIC TRINKET BOX        24   \n",
       "\n",
       "           InvoiceDate  Price  Customer ID         Country  Revenue  \n",
       "0  2009-12-01 07:45:00   6.95      13085.0  United Kingdom     83.4  \n",
       "1  2009-12-01 07:45:00   6.75      13085.0  United Kingdom     81.0  \n",
       "2  2009-12-01 07:45:00   6.75      13085.0  United Kingdom     81.0  \n",
       "3  2009-12-01 07:45:00   2.10      13085.0  United Kingdom    100.8  \n",
       "4  2009-12-01 07:45:00   1.25      13085.0  United Kingdom     30.0  "
      ]
     },
     "execution_count": 2,
     "metadata": {},
     "output_type": "execute_result"
    }
   ],
   "source": [
    "retail = pd.read_csv('retail_clean (1).csv')\n",
    "retail = retail.drop(columns='Unnamed: 0')\n",
    "retail.head()"
   ]
  },
  {
   "cell_type": "code",
   "execution_count": 3,
   "id": "6e0ee2f5-815b-417c-9f74-110ca5d5b8ca",
   "metadata": {},
   "outputs": [
    {
     "name": "stdout",
     "output_type": "stream",
     "text": [
      "<class 'pandas.core.frame.DataFrame'>\n",
      "RangeIndex: 779495 entries, 0 to 779494\n",
      "Data columns (total 9 columns):\n",
      " #   Column       Non-Null Count   Dtype  \n",
      "---  ------       --------------   -----  \n",
      " 0   Invoice      779495 non-null  int64  \n",
      " 1   StockCode    779495 non-null  object \n",
      " 2   Description  779495 non-null  object \n",
      " 3   Quantity     779495 non-null  int64  \n",
      " 4   InvoiceDate  779495 non-null  object \n",
      " 5   Price        779495 non-null  float64\n",
      " 6   Customer ID  779495 non-null  float64\n",
      " 7   Country      779495 non-null  object \n",
      " 8   Revenue      779495 non-null  float64\n",
      "dtypes: float64(3), int64(2), object(4)\n",
      "memory usage: 53.5+ MB\n"
     ]
    }
   ],
   "source": [
    "retail.info()"
   ]
  },
  {
   "cell_type": "code",
   "execution_count": 4,
   "id": "2a31934c-fb8a-4cf6-ada6-8fcade60dc63",
   "metadata": {},
   "outputs": [],
   "source": [
    "retail['InvoiceDate'] = pd.to_datetime(retail['InvoiceDate'])"
   ]
  },
  {
   "cell_type": "code",
   "execution_count": 5,
   "id": "291e87e9-ed7b-4a61-8d7d-7c86d2c6d2be",
   "metadata": {},
   "outputs": [],
   "source": [
    "retail['daysofweek'] = retail['InvoiceDate'].dt.dayofweek"
   ]
  },
  {
   "cell_type": "code",
   "execution_count": 6,
   "id": "c818b6dc-603c-4031-8a44-b5ccda843ff8",
   "metadata": {},
   "outputs": [],
   "source": [
    "retail['daysofweek'].value_counts\n",
    "retail['date'] = retail['InvoiceDate'].dt.strftime('%Y-%m-%d')\n",
    "retail['date'] = pd.to_datetime(retail['date'])"
   ]
  },
  {
   "cell_type": "markdown",
   "id": "b03be2ee-1f99-4a33-921a-98a909471268",
   "metadata": {},
   "source": [
    "# GETTING THE CV^2 AND ADI"
   ]
  },
  {
   "cell_type": "code",
   "execution_count": 7,
   "id": "fb0bc2a4-a489-4dd2-aad2-c9971ec173ff",
   "metadata": {},
   "outputs": [],
   "source": [
    "retail_grouped = retail.groupby(['Description','date']).agg(total_sales = ('Quantity','sum')).reset_index()"
   ]
  },
  {
   "cell_type": "code",
   "execution_count": 8,
   "id": "68540e19-0b00-4c96-8287-b8b6bc449bd1",
   "metadata": {},
   "outputs": [],
   "source": [
    "cv_data = retail_grouped.groupby('Description').agg(average = ('total_sales','mean'),\n",
    "                                                   standard_dev = ('total_sales','std')).reset_index()"
   ]
  },
  {
   "cell_type": "code",
   "execution_count": 9,
   "id": "242e18a3-66b4-4f67-a337-255135010328",
   "metadata": {},
   "outputs": [],
   "source": [
    "cv_data['cv_squared'] = (cv_data['standard_dev']/cv_data['average'])**2"
   ]
  },
  {
   "cell_type": "code",
   "execution_count": 10,
   "id": "a609cde8-45d8-4cbd-be24-02653422e469",
   "metadata": {},
   "outputs": [],
   "source": [
    "product_by_date = retail.groupby(['Description','date']).agg(count=('Description','count')).reset_index()"
   ]
  },
  {
   "cell_type": "code",
   "execution_count": 11,
   "id": "d10c6085-beb5-46ec-a163-b61f57447a0e",
   "metadata": {
    "scrolled": true
   },
   "outputs": [
    {
     "data": {
      "text/html": [
       "<div>\n",
       "<style scoped>\n",
       "    .dataframe tbody tr th:only-of-type {\n",
       "        vertical-align: middle;\n",
       "    }\n",
       "\n",
       "    .dataframe tbody tr th {\n",
       "        vertical-align: top;\n",
       "    }\n",
       "\n",
       "    .dataframe thead th {\n",
       "        text-align: right;\n",
       "    }\n",
       "</style>\n",
       "<table border=\"1\" class=\"dataframe\">\n",
       "  <thead>\n",
       "    <tr style=\"text-align: right;\">\n",
       "      <th></th>\n",
       "      <th>Description</th>\n",
       "      <th>average</th>\n",
       "      <th>standard_dev</th>\n",
       "      <th>cv_squared</th>\n",
       "    </tr>\n",
       "  </thead>\n",
       "  <tbody>\n",
       "    <tr>\n",
       "      <th>0</th>\n",
       "      <td>DOORMAT UNION JACK GUNS AND ROSES</td>\n",
       "      <td>6.958333</td>\n",
       "      <td>7.865606</td>\n",
       "      <td>1.277774</td>\n",
       "    </tr>\n",
       "    <tr>\n",
       "      <th>1</th>\n",
       "      <td>3 STRIPEY MICE FELTCRAFT</td>\n",
       "      <td>11.220339</td>\n",
       "      <td>14.247889</td>\n",
       "      <td>1.612460</td>\n",
       "    </tr>\n",
       "    <tr>\n",
       "      <th>2</th>\n",
       "      <td>4 PURPLE FLOCK DINNER CANDLES</td>\n",
       "      <td>7.363636</td>\n",
       "      <td>10.850123</td>\n",
       "      <td>2.171124</td>\n",
       "    </tr>\n",
       "    <tr>\n",
       "      <th>3</th>\n",
       "      <td>50'S CHRISTMAS GIFT BAG LARGE</td>\n",
       "      <td>31.416667</td>\n",
       "      <td>55.502112</td>\n",
       "      <td>3.121036</td>\n",
       "    </tr>\n",
       "    <tr>\n",
       "      <th>4</th>\n",
       "      <td>ANIMAL STICKERS</td>\n",
       "      <td>32.083333</td>\n",
       "      <td>11.758620</td>\n",
       "      <td>0.134324</td>\n",
       "    </tr>\n",
       "    <tr>\n",
       "      <th>...</th>\n",
       "      <td>...</td>\n",
       "      <td>...</td>\n",
       "      <td>...</td>\n",
       "      <td>...</td>\n",
       "    </tr>\n",
       "    <tr>\n",
       "      <th>5278</th>\n",
       "      <td>ZINC T-LIGHT HOLDER STARS SMALL</td>\n",
       "      <td>36.522388</td>\n",
       "      <td>46.825017</td>\n",
       "      <td>1.643757</td>\n",
       "    </tr>\n",
       "    <tr>\n",
       "      <th>5279</th>\n",
       "      <td>ZINC TOP  2 DOOR WOODEN SHELF</td>\n",
       "      <td>5.902439</td>\n",
       "      <td>7.598700</td>\n",
       "      <td>1.657355</td>\n",
       "    </tr>\n",
       "    <tr>\n",
       "      <th>5280</th>\n",
       "      <td>ZINC WILLIE WINKIE  CANDLE STICK</td>\n",
       "      <td>21.116438</td>\n",
       "      <td>23.437864</td>\n",
       "      <td>1.231955</td>\n",
       "    </tr>\n",
       "    <tr>\n",
       "      <th>5281</th>\n",
       "      <td>ZINC WIRE KITCHEN ORGANISER</td>\n",
       "      <td>2.500000</td>\n",
       "      <td>2.505549</td>\n",
       "      <td>1.004444</td>\n",
       "    </tr>\n",
       "    <tr>\n",
       "      <th>5282</th>\n",
       "      <td>ZINC WIRE SWEETHEART LETTER TRAY</td>\n",
       "      <td>4.444444</td>\n",
       "      <td>5.772371</td>\n",
       "      <td>1.686838</td>\n",
       "    </tr>\n",
       "  </tbody>\n",
       "</table>\n",
       "<p>5283 rows × 4 columns</p>\n",
       "</div>"
      ],
      "text/plain": [
       "                              Description    average  standard_dev  cv_squared\n",
       "0       DOORMAT UNION JACK GUNS AND ROSES   6.958333      7.865606    1.277774\n",
       "1                3 STRIPEY MICE FELTCRAFT  11.220339     14.247889    1.612460\n",
       "2           4 PURPLE FLOCK DINNER CANDLES   7.363636     10.850123    2.171124\n",
       "3           50'S CHRISTMAS GIFT BAG LARGE  31.416667     55.502112    3.121036\n",
       "4                         ANIMAL STICKERS  32.083333     11.758620    0.134324\n",
       "...                                   ...        ...           ...         ...\n",
       "5278      ZINC T-LIGHT HOLDER STARS SMALL  36.522388     46.825017    1.643757\n",
       "5279       ZINC TOP  2 DOOR WOODEN SHELF    5.902439      7.598700    1.657355\n",
       "5280     ZINC WILLIE WINKIE  CANDLE STICK  21.116438     23.437864    1.231955\n",
       "5281          ZINC WIRE KITCHEN ORGANISER   2.500000      2.505549    1.004444\n",
       "5282     ZINC WIRE SWEETHEART LETTER TRAY   4.444444      5.772371    1.686838\n",
       "\n",
       "[5283 rows x 4 columns]"
      ]
     },
     "execution_count": 11,
     "metadata": {},
     "output_type": "execute_result"
    }
   ],
   "source": [
    "cv_data"
   ]
  },
  {
   "cell_type": "code",
   "execution_count": 12,
   "id": "f536466f-84ae-40e0-a8f8-346b7a737b90",
   "metadata": {},
   "outputs": [],
   "source": [
    "skus = product_by_date.Description.unique()"
   ]
  },
  {
   "cell_type": "code",
   "execution_count": 13,
   "id": "7cfe508d-0053-456e-bf3a-5fda9dc8680a",
   "metadata": {
    "scrolled": true
   },
   "outputs": [
    {
     "data": {
      "text/plain": [
       "array(['  DOORMAT UNION JACK GUNS AND ROSES', ' 3 STRIPEY MICE FELTCRAFT',\n",
       "       ' 4 PURPLE FLOCK DINNER CANDLES', ...,\n",
       "       'ZINC WILLIE WINKIE  CANDLE STICK', 'ZINC WIRE KITCHEN ORGANISER',\n",
       "       'ZINC WIRE SWEETHEART LETTER TRAY'], dtype=object)"
      ]
     },
     "execution_count": 13,
     "metadata": {},
     "output_type": "execute_result"
    }
   ],
   "source": [
    "skus"
   ]
  },
  {
   "cell_type": "code",
   "execution_count": 14,
   "id": "0045bdfa-bb41-404d-afeb-4cc0eb60dcce",
   "metadata": {},
   "outputs": [],
   "source": [
    "empty_dataframe = pd.DataFrame()"
   ]
  },
  {
   "cell_type": "code",
   "execution_count": 16,
   "id": "35834006-0d9b-4791-955e-2111c6cc58fa",
   "metadata": {},
   "outputs": [
    {
     "data": {
      "text/plain": [
       "(5283,)"
      ]
     },
     "execution_count": 16,
     "metadata": {},
     "output_type": "execute_result"
    }
   ],
   "source": [
    "skus.shape"
   ]
  },
  {
   "cell_type": "code",
   "execution_count": null,
   "id": "5671cc37-34d5-48cd-92fd-fa98787a864c",
   "metadata": {},
   "outputs": [],
   "source": [
    "for sku in skus:\n",
    "    a = product_by_date[product_by_date.Descripton == sku]\n",
    "    a['previous_date'] = a['date'].shift(1)\n",
    "    empty_dataframe = pd.concat([empty_dataframe,a],axis=0)"
   ]
  },
  {
   "cell_type": "code",
   "execution_count": null,
   "id": "ae06d16b-19c1-4574-b1b0-424d8757a7d8",
   "metadata": {},
   "outputs": [],
   "source": [
    "empty_dataframe['Duration'] = empty_dataframe['date'] - empty_dataframe['previous_date']"
   ]
  },
  {
   "cell_type": "code",
   "execution_count": null,
   "id": "463ef109-4ff9-4d56-8f11-6dc128c61d8b",
   "metadata": {},
   "outputs": [],
   "source": []
  },
  {
   "cell_type": "code",
   "execution_count": null,
   "id": "dbe144c9-2be7-468b-80f4-48aba410a1a6",
   "metadata": {},
   "outputs": [],
   "source": []
  },
  {
   "cell_type": "code",
   "execution_count": null,
   "id": "e6dca04a-8e6e-42d1-b144-44f20f4de7f8",
   "metadata": {},
   "outputs": [],
   "source": []
  }
 ],
 "metadata": {
  "kernelspec": {
   "display_name": "Python 3 (ipykernel)",
   "language": "python",
   "name": "python3"
  },
  "language_info": {
   "codemirror_mode": {
    "name": "ipython",
    "version": 3
   },
   "file_extension": ".py",
   "mimetype": "text/x-python",
   "name": "python",
   "nbconvert_exporter": "python",
   "pygments_lexer": "ipython3",
   "version": "3.12.4"
  }
 },
 "nbformat": 4,
 "nbformat_minor": 5
}
