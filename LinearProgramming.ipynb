{
 "cells": [
  {
   "cell_type": "code",
   "execution_count": 18,
   "id": "ab215c64-534c-48c2-9aae-e5f5a300dfaa",
   "metadata": {},
   "outputs": [],
   "source": [
    "import pandas as pd\n",
    "import numpy as np\n",
    "import matplotlib.pyplot as plt"
   ]
  },
  {
   "cell_type": "code",
   "execution_count": 19,
   "id": "6338aa2b-72dd-4812-91b3-aa438217c8c4",
   "metadata": {},
   "outputs": [],
   "source": [
    "from pulp import *"
   ]
  },
  {
   "cell_type": "code",
   "execution_count": 20,
   "id": "19ebe78a-c263-424b-b60a-2abf2805af02",
   "metadata": {},
   "outputs": [],
   "source": [
    "product1 = 25\n",
    "product2 = 35"
   ]
  },
  {
   "cell_type": "code",
   "execution_count": 21,
   "id": "7194d7fd-3023-4c7e-9164-8894a399a5ba",
   "metadata": {},
   "outputs": [],
   "source": [
    "model = LpProblem('Pillows',LpMaximize)"
   ]
  },
  {
   "cell_type": "code",
   "execution_count": 22,
   "id": "38c5960e-827f-4100-99d2-d35867634e3a",
   "metadata": {},
   "outputs": [],
   "source": [
    "X1 = LpVariable('X1',0,None,'Integer')\n",
    "X2 = LpVariable('X2',0,None,'Integer')"
   ]
  },
  {
   "cell_type": "code",
   "execution_count": 23,
   "id": "c4c79ae1-b205-46a5-b1c3-737b01d8821f",
   "metadata": {},
   "outputs": [],
   "source": [
    "model += X1*product1 + X2*product2"
   ]
  },
  {
   "cell_type": "code",
   "execution_count": 31,
   "id": "8f10d59e-f661-417a-9738-cf858139d1af",
   "metadata": {},
   "outputs": [],
   "source": [
    "model += X1*0.3 + X2*0.5 <= 20 #Constraint 1 \n",
    "model += X1*0.5 + X2*0.5 <= 35 #Constraint 2"
   ]
  },
  {
   "cell_type": "code",
   "execution_count": 32,
   "id": "9f0e8168-b74c-4156-a137-93286b86b1ba",
   "metadata": {},
   "outputs": [
    {
     "data": {
      "text/plain": [
       "1"
      ]
     },
     "execution_count": 32,
     "metadata": {},
     "output_type": "execute_result"
    }
   ],
   "source": [
    "model.solve()"
   ]
  },
  {
   "cell_type": "code",
   "execution_count": 33,
   "id": "09cd1947-d623-4d04-b1da-6823a973770b",
   "metadata": {},
   "outputs": [
    {
     "data": {
      "text/plain": [
       "65.0"
      ]
     },
     "execution_count": 33,
     "metadata": {},
     "output_type": "execute_result"
    }
   ],
   "source": [
    "X1.varValue"
   ]
  },
  {
   "cell_type": "code",
   "execution_count": 34,
   "id": "f477ce72-725f-4a43-8ebc-de25ccd27f96",
   "metadata": {},
   "outputs": [
    {
     "data": {
      "text/plain": [
       "1.0"
      ]
     },
     "execution_count": 34,
     "metadata": {},
     "output_type": "execute_result"
    }
   ],
   "source": [
    "X2.varValue"
   ]
  },
  {
   "cell_type": "code",
   "execution_count": null,
   "id": "e01ab81a-bba8-4518-9c96-8ac9345b0f92",
   "metadata": {},
   "outputs": [],
   "source": []
  }
 ],
 "metadata": {
  "kernelspec": {
   "display_name": "Python 3 (ipykernel)",
   "language": "python",
   "name": "python3"
  },
  "language_info": {
   "codemirror_mode": {
    "name": "ipython",
    "version": 3
   },
   "file_extension": ".py",
   "mimetype": "text/x-python",
   "name": "python",
   "nbconvert_exporter": "python",
   "pygments_lexer": "ipython3",
   "version": "3.12.4"
  }
 },
 "nbformat": 4,
 "nbformat_minor": 5
}
