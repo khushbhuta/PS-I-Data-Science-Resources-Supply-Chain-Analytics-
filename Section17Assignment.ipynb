{
 "cells": [
  {
   "cell_type": "code",
   "execution_count": 1,
   "id": "f879b948-3208-4010-8a49-a857d1df4730",
   "metadata": {},
   "outputs": [],
   "source": [
    "import numpy as np\n",
    "import pandas as pd\n",
    "import seaborn\n",
    "import array\n",
    "import inventorize as inv"
   ]
  },
  {
   "cell_type": "code",
   "execution_count": 3,
   "id": "2cdf3781-aa10-48b9-83fb-e038b7320cf0",
   "metadata": {},
   "outputs": [],
   "source": [
    "pineapple = pd.read_csv(\"C:\\\\Users\\\\Khush Bhuta\\\\Desktop\\\\python_workspace\\\\data\\\\Pinapple_juice (1).csv\")"
   ]
  },
  {
   "cell_type": "code",
   "execution_count": 4,
   "id": "ba809eb4-827f-48ff-ba9b-03ae9e89dd42",
   "metadata": {},
   "outputs": [
    {
     "data": {
      "text/html": [
       "<div>\n",
       "<style scoped>\n",
       "    .dataframe tbody tr th:only-of-type {\n",
       "        vertical-align: middle;\n",
       "    }\n",
       "\n",
       "    .dataframe tbody tr th {\n",
       "        vertical-align: top;\n",
       "    }\n",
       "\n",
       "    .dataframe thead th {\n",
       "        text-align: right;\n",
       "    }\n",
       "</style>\n",
       "<table border=\"1\" class=\"dataframe\">\n",
       "  <thead>\n",
       "    <tr style=\"text-align: right;\">\n",
       "      <th></th>\n",
       "      <th>Day</th>\n",
       "      <th>Pinapple juice</th>\n",
       "      <th>Price</th>\n",
       "    </tr>\n",
       "  </thead>\n",
       "  <tbody>\n",
       "    <tr>\n",
       "      <th>0</th>\n",
       "      <td>1</td>\n",
       "      <td>131</td>\n",
       "      <td>1.38</td>\n",
       "    </tr>\n",
       "    <tr>\n",
       "      <th>1</th>\n",
       "      <td>2</td>\n",
       "      <td>147</td>\n",
       "      <td>1.06</td>\n",
       "    </tr>\n",
       "    <tr>\n",
       "      <th>2</th>\n",
       "      <td>3</td>\n",
       "      <td>101</td>\n",
       "      <td>1.98</td>\n",
       "    </tr>\n",
       "    <tr>\n",
       "      <th>3</th>\n",
       "      <td>4</td>\n",
       "      <td>139</td>\n",
       "      <td>1.22</td>\n",
       "    </tr>\n",
       "    <tr>\n",
       "      <th>4</th>\n",
       "      <td>5</td>\n",
       "      <td>121</td>\n",
       "      <td>1.58</td>\n",
       "    </tr>\n",
       "  </tbody>\n",
       "</table>\n",
       "</div>"
      ],
      "text/plain": [
       "   Day  Pinapple juice  Price\n",
       "0    1             131   1.38\n",
       "1    2             147   1.06\n",
       "2    3             101   1.98\n",
       "3    4             139   1.22\n",
       "4    5             121   1.58"
      ]
     },
     "execution_count": 4,
     "metadata": {},
     "output_type": "execute_result"
    }
   ],
   "source": [
    "pineapple.head()"
   ]
  },
  {
   "cell_type": "code",
   "execution_count": 5,
   "id": "4362381b-d0cf-435b-8fa6-0975c32c8082",
   "metadata": {},
   "outputs": [],
   "source": [
    "demand = pineapple[['Pinapple juice']]"
   ]
  },
  {
   "cell_type": "code",
   "execution_count": 6,
   "id": "1547c33d-10ac-4445-916c-4c15426b4900",
   "metadata": {},
   "outputs": [],
   "source": [
    "leadtime = 7"
   ]
  },
  {
   "cell_type": "code",
   "execution_count": 7,
   "id": "4ee9d613-c9f5-49ae-8c93-b154994ea06f",
   "metadata": {},
   "outputs": [],
   "source": [
    "mean = pineapple['Pinapple juice'].mean()"
   ]
  },
  {
   "cell_type": "code",
   "execution_count": 8,
   "id": "c87ec5a4-ad96-4b21-8533-e2ea88f4c3d9",
   "metadata": {},
   "outputs": [],
   "source": [
    "sd = pineapple['Pinapple juice'].std()"
   ]
  },
  {
   "cell_type": "code",
   "execution_count": 9,
   "id": "d3b9ca44-6a36-4c73-a609-ff0f24c864b1",
   "metadata": {},
   "outputs": [
    {
     "name": "stderr",
     "output_type": "stream",
     "text": [
      "C:\\Users\\Khush Bhuta\\AppData\\Local\\Programs\\Python\\Python312\\Lib\\site-packages\\inventorize\\__init__.py:3680: UserWarning:  This function is deprecated, Kindly use sim_Q_max() instead or sim_min_Q_dynamic() for forecasting \n",
      "  warnings.warn(' This function is deprecated, Kindly use sim_Q_max() instead or sim_min_Q_dynamic() for forecasting ')\n"
     ]
    }
   ],
   "source": [
    "pine_sq = inv.sim_min_Q_normal(demand, mean, sd, leadtime = 7,service_level=0.8,Quantity=3000,ordering_cost = 100,inventory_cost=1)"
   ]
  },
  {
   "cell_type": "code",
   "execution_count": 10,
   "id": "da19730c-aa31-4553-bf1d-71b69a3d2e9c",
   "metadata": {},
   "outputs": [
    {
     "name": "stderr",
     "output_type": "stream",
     "text": [
      "C:\\Users\\Khush Bhuta\\AppData\\Local\\Programs\\Python\\Python312\\Lib\\site-packages\\inventorize\\__init__.py:3208: UserWarning:  This function is deprecated, Kindly use sim_base_stock_policy() instead or sim_base_stock_policy() for forecasting \n",
      "  warnings.warn(' This function is deprecated, Kindly use sim_base_stock_policy() instead or sim_base_stock_policy() for forecasting ')\n"
     ]
    }
   ],
   "source": [
    "pine_base = inv.sim_base_normal(demand, mean, sd, leadtime = 7, service_level = 0.8, ordering_cost = 100, inventory_cost = 5)"
   ]
  },
  {
   "cell_type": "code",
   "execution_count": 11,
   "id": "caae451c-ee0a-4aac-880c-fd6885176307",
   "metadata": {},
   "outputs": [
    {
     "name": "stderr",
     "output_type": "stream",
     "text": [
      "C:\\Users\\Khush Bhuta\\AppData\\Local\\Programs\\Python\\Python312\\Lib\\site-packages\\inventorize\\__init__.py:3903: UserWarning:  This function is deprecated, Kindly use sim_min_max() instead or sim_min_max_dynamic() for forecasting \n",
      "  warnings.warn(' This function is deprecated, Kindly use sim_min_max() instead or sim_min_max_dynamic() for forecasting ')\n"
     ]
    }
   ],
   "source": [
    "pine_minmax = inv.sim_min_max_normal(demand, mean, sd, leadtime = 7, Max = 1100, service_level = 0.8, ordering_cost = 100, inventory_cost = 5)"
   ]
  },
  {
   "cell_type": "code",
   "execution_count": 12,
   "id": "e4c2ce7d-59a8-4d14-b22f-af721e2273be",
   "metadata": {},
   "outputs": [
    {
     "name": "stderr",
     "output_type": "stream",
     "text": [
      "C:\\Users\\Khush Bhuta\\AppData\\Local\\Programs\\Python\\Python312\\Lib\\site-packages\\inventorize\\__init__.py:2694: UserWarning:  This function is deprecated, Kindly use periodic_policy() instead or periodic_policy_dynamic() for forecasting \n",
      "  warnings.warn(' This function is deprecated, Kindly use periodic_policy() instead or periodic_policy_dynamic() for forecasting ')\n"
     ]
    }
   ],
   "source": [
    "pine_periodic = inv.Periodic_review_normal(demand, mean, sd, leadtime = 7, service_level = 0.8, ordering_cost = 100, inventory_cost = 5, Review_period = 7)"
   ]
  },
  {
   "cell_type": "code",
   "execution_count": 13,
   "id": "ef8e8414-01c9-4f28-b2b2-a6c2a192fa3f",
   "metadata": {},
   "outputs": [],
   "source": [
    "pine_hibrid = inv.Hibrid_normal(demand, mean, sd, leadtime = 7, Min = 20, service_level = 0.8, ordering_cost = 100, inventory_cost = 5, Review_period=7)"
   ]
  },
  {
   "cell_type": "code",
   "execution_count": 15,
   "id": "13cccb91-eec5-43d7-9d6b-8d720e5914bd",
   "metadata": {},
   "outputs": [
    {
     "data": {
      "text/plain": [
       "{'shortage_cost': 0.0,\n",
       " 'inventory_cost': 530184.0,\n",
       " 'average_inventory_level': 1444.6430517711171,\n",
       " 'ordering_cost': 1600,\n",
       " 'total_lost_sales': 474.0,\n",
       " 'Item_fill_rate': 0.9900558049762934,\n",
       " 'cycle_service_level': 0.9781420765027322,\n",
       " 'saftey_stock': 47.47812501082669}"
      ]
     },
     "execution_count": 15,
     "metadata": {},
     "output_type": "execute_result"
    }
   ],
   "source": [
    "pine_sq[1]"
   ]
  },
  {
   "cell_type": "code",
   "execution_count": 17,
   "id": "231e4ec9-6cc5-441c-97f2-09663d07c30f",
   "metadata": {},
   "outputs": [
    {
     "data": {
      "text/plain": [
       "{'shortage_cost': 0.0,\n",
       " 'inventory_cost': 127155.0,\n",
       " 'average_inventory_level': 69.29427792915531,\n",
       " 'ordering_cost': 36600,\n",
       " 'total_lost_sales': 610.0,\n",
       " 'Item_fill_rate': 0.9872026182184366,\n",
       " 'cycle_service_level': 0.9153005464480874,\n",
       " 'saftey_stock': 47.47812501082669}"
      ]
     },
     "execution_count": 17,
     "metadata": {},
     "output_type": "execute_result"
    }
   ],
   "source": [
    "pine_base[1]"
   ]
  },
  {
   "cell_type": "code",
   "execution_count": 18,
   "id": "5c153b0a-e774-4387-b3d4-8ebbf0157394",
   "metadata": {},
   "outputs": [
    {
     "data": {
      "text/plain": [
       "{'shortage_cost': 0.0,\n",
       " 'inventory_cost': 156895.0,\n",
       " 'average_inventory_level': 85.50136239782016,\n",
       " 'ordering_cost': 20700,\n",
       " 'total_lost_sales': 3078.0,\n",
       " 'Item_fill_rate': 0.935425670289095,\n",
       " 'cycle_service_level': 0.7595628415300546,\n",
       " 'saftey_stock': 47.47812501082669}"
      ]
     },
     "execution_count": 18,
     "metadata": {},
     "output_type": "execute_result"
    }
   ],
   "source": [
    "pine_minmax[1]"
   ]
  },
  {
   "cell_type": "code",
   "execution_count": 19,
   "id": "233c81de-68af-4a39-87d6-870166e03e2b",
   "metadata": {},
   "outputs": [
    {
     "data": {
      "text/plain": [
       "{'shortage_cost': 0.0,\n",
       " 'inventory_cost': 894025.0,\n",
       " 'average_inventory_level': 487.20708446866485,\n",
       " 'ordering_cost': 5200,\n",
       " 'total_lost_sales': 253.0,\n",
       " 'Item_fill_rate': 0.9946922334578105,\n",
       " 'cycle_service_level': 0.9836065573770492,\n",
       " 'saftey_stock': 67.14420830635635}"
      ]
     },
     "execution_count": 19,
     "metadata": {},
     "output_type": "execute_result"
    }
   ],
   "source": [
    "pine_periodic[1]"
   ]
  },
  {
   "cell_type": "code",
   "execution_count": 20,
   "id": "b5cf5478-a73d-469f-92aa-e728a9225b9a",
   "metadata": {},
   "outputs": [
    {
     "data": {
      "text/plain": [
       "{'shortage_cost': 0.0,\n",
       " 'inventory_cost': 894025.0,\n",
       " 'average_inventory_level': 487.20708446866485,\n",
       " 'ordering_cost': 5200,\n",
       " 'total_lost_sales': 253.0,\n",
       " 'Item_fill_rate': 0.9946922334578105,\n",
       " 'cycle_service_level': 0.9836065573770492,\n",
       " 'saftey_stock': 67.14420830635635}"
      ]
     },
     "execution_count": 20,
     "metadata": {},
     "output_type": "execute_result"
    }
   ],
   "source": [
    "pine_hibrid[1]"
   ]
  },
  {
   "cell_type": "code",
   "execution_count": 21,
   "id": "d7bea73e-60b8-43f1-ae47-3bee188e0f6a",
   "metadata": {},
   "outputs": [],
   "source": [
    "# we can choose the base policy or minmax policy here"
   ]
  },
  {
   "cell_type": "code",
   "execution_count": null,
   "id": "c2d0322e-9aaa-4694-9f6a-81ed3ac2bc03",
   "metadata": {},
   "outputs": [],
   "source": []
  }
 ],
 "metadata": {
  "kernelspec": {
   "display_name": "Python 3 (ipykernel)",
   "language": "python",
   "name": "python3"
  },
  "language_info": {
   "codemirror_mode": {
    "name": "ipython",
    "version": 3
   },
   "file_extension": ".py",
   "mimetype": "text/x-python",
   "name": "python",
   "nbconvert_exporter": "python",
   "pygments_lexer": "ipython3",
   "version": "3.12.4"
  }
 },
 "nbformat": 4,
 "nbformat_minor": 5
}
