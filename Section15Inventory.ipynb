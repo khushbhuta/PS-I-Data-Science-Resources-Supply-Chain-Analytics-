{
 "cells": [
  {
   "cell_type": "code",
   "execution_count": 1,
   "id": "335b826b-14a3-4ae8-8f3d-60a0b731810a",
   "metadata": {},
   "outputs": [],
   "source": [
    "import pandas as pd\n",
    "import numpy as np\n",
    "import matplotlib.pyplot as plt"
   ]
  },
  {
   "cell_type": "code",
   "execution_count": 3,
   "id": "b9a9ea29-0038-46d7-ba8e-c5fba2187c76",
   "metadata": {},
   "outputs": [],
   "source": [
    "import inventorize3 as inv"
   ]
  },
  {
   "cell_type": "code",
   "execution_count": 4,
   "id": "d0a5f51c-e79e-4e8a-aa4a-2819ce3819e8",
   "metadata": {},
   "outputs": [],
   "source": [
    "d = 4000\n",
    "c = 2500\n",
    "s = 6000\n",
    "h = 0.1"
   ]
  },
  {
   "cell_type": "code",
   "execution_count": 14,
   "id": "c2cf71c1-6e0c-4806-be32-9a15b100ee04",
   "metadata": {},
   "outputs": [],
   "source": [
    "cdisc = c*0.9"
   ]
  },
  {
   "cell_type": "code",
   "execution_count": 6,
   "id": "d42122bb-293d-4924-883f-011de221b1cc",
   "metadata": {},
   "outputs": [],
   "source": [
    "eoq = pd.DataFrame(inv.eoq(d,s,c,h),index=[0])"
   ]
  },
  {
   "cell_type": "code",
   "execution_count": 7,
   "id": "c0a9652e-8a43-455f-9e3e-b96078ac76b2",
   "metadata": {},
   "outputs": [
    {
     "data": {
      "text/html": [
       "<div>\n",
       "<style scoped>\n",
       "    .dataframe tbody tr th:only-of-type {\n",
       "        vertical-align: middle;\n",
       "    }\n",
       "\n",
       "    .dataframe tbody tr th {\n",
       "        vertical-align: top;\n",
       "    }\n",
       "\n",
       "    .dataframe thead th {\n",
       "        text-align: right;\n",
       "    }\n",
       "</style>\n",
       "<table border=\"1\" class=\"dataframe\">\n",
       "  <thead>\n",
       "    <tr style=\"text-align: right;\">\n",
       "      <th></th>\n",
       "      <th>EOQ</th>\n",
       "      <th>T_years</th>\n",
       "      <th>T_weeks</th>\n",
       "    </tr>\n",
       "  </thead>\n",
       "  <tbody>\n",
       "    <tr>\n",
       "      <th>0</th>\n",
       "      <td>438.178046</td>\n",
       "      <td>0.109545</td>\n",
       "      <td>5.696315</td>\n",
       "    </tr>\n",
       "  </tbody>\n",
       "</table>\n",
       "</div>"
      ],
      "text/plain": [
       "          EOQ   T_years   T_weeks\n",
       "0  438.178046  0.109545  5.696315"
      ]
     },
     "execution_count": 7,
     "metadata": {},
     "output_type": "execute_result"
    }
   ],
   "source": [
    "eoq"
   ]
  },
  {
   "cell_type": "code",
   "execution_count": 8,
   "id": "e0d236dc-c63e-4b6d-bff6-d50251f01c9b",
   "metadata": {},
   "outputs": [],
   "source": [
    "eoq1 = eoq.loc[0,'EOQ']"
   ]
  },
  {
   "cell_type": "code",
   "execution_count": 11,
   "id": "90413073-b6c4-4b12-9bb9-300efb0866bc",
   "metadata": {},
   "outputs": [],
   "source": [
    "tlc = (d/eoq1)*s + (eoq1/2)*h*c + (c*d)"
   ]
  },
  {
   "cell_type": "code",
   "execution_count": 12,
   "id": "682f0224-bedc-455b-8b8a-e075db99099c",
   "metadata": {},
   "outputs": [
    {
     "data": {
      "text/plain": [
       "10109544.511501033"
      ]
     },
     "execution_count": 12,
     "metadata": {},
     "output_type": "execute_result"
    }
   ],
   "source": [
    "tlc"
   ]
  },
  {
   "cell_type": "code",
   "execution_count": 13,
   "id": "9954c94d-6c3e-483b-b128-b165d0c18d05",
   "metadata": {},
   "outputs": [
    {
     "data": {
      "text/plain": [
       "{'Ts': 0.10954451150103323,\n",
       " 'Tstarweeks': 5.6963145980537275,\n",
       " 'Qstar': 438.1780460041329,\n",
       " 'Tpractical': 4,\n",
       " 'Tpracticalweeks': 4,\n",
       " 'Qpractical': 307.69230769230774}"
      ]
     },
     "execution_count": 13,
     "metadata": {},
     "output_type": "execute_result"
    }
   ],
   "source": [
    "inv.TQpractical(d,s,c,h)"
   ]
  },
  {
   "cell_type": "code",
   "execution_count": 15,
   "id": "4afcb132-b922-4b0a-a335-6567278e9152",
   "metadata": {},
   "outputs": [],
   "source": [
    "TLC1 = (d/500)*s + (500/2)*(h*cdisc) + d*cdisc"
   ]
  },
  {
   "cell_type": "code",
   "execution_count": 16,
   "id": "e6d7785a-3044-45ad-bd70-42a3affe4482",
   "metadata": {},
   "outputs": [
    {
     "data": {
      "text/plain": [
       "9104250.0"
      ]
     },
     "execution_count": 16,
     "metadata": {},
     "output_type": "execute_result"
    }
   ],
   "source": [
    "TLC1"
   ]
  },
  {
   "cell_type": "markdown",
   "id": "f802f538-cc33-4a5c-9a9f-608ccd5761b6",
   "metadata": {},
   "source": [
    "Say that the Lead Time for orders to arrive is 1 month"
   ]
  },
  {
   "cell_type": "code",
   "execution_count": 17,
   "id": "7a61a52d-c8d0-46de-9a28-a4dfd36e06bc",
   "metadata": {},
   "outputs": [],
   "source": [
    "t = eoq1/d"
   ]
  },
  {
   "cell_type": "code",
   "execution_count": 18,
   "id": "82971f17-f535-4b3a-96eb-1f50813bd62c",
   "metadata": {},
   "outputs": [],
   "source": [
    "l = 1/12"
   ]
  },
  {
   "cell_type": "code",
   "execution_count": 19,
   "id": "fa5ef57a-fdb7-461b-bf4a-35c9fbdde054",
   "metadata": {},
   "outputs": [
    {
     "data": {
      "text/plain": [
       "True"
      ]
     },
     "execution_count": 19,
     "metadata": {},
     "output_type": "execute_result"
    }
   ],
   "source": [
    "l<t"
   ]
  },
  {
   "cell_type": "code",
   "execution_count": 20,
   "id": "6d8f3740-cfce-4c30-b300-f80e59380948",
   "metadata": {},
   "outputs": [],
   "source": [
    "reorder_point = l*d"
   ]
  },
  {
   "cell_type": "code",
   "execution_count": 22,
   "id": "5240dcfe-cee5-4ea7-900c-871e9e1b11af",
   "metadata": {},
   "outputs": [
    {
     "data": {
      "text/plain": [
       "333.3333333333333"
      ]
     },
     "execution_count": 22,
     "metadata": {},
     "output_type": "execute_result"
    }
   ],
   "source": [
    "reorder_point"
   ]
  },
  {
   "cell_type": "markdown",
   "id": "09b009f4-c526-4922-8de0-13906a661bf5",
   "metadata": {},
   "source": [
    "Whenever our inventory levels are 333.33, we reorder q and q in this case is 438"
   ]
  },
  {
   "cell_type": "markdown",
   "id": "1faee466-0702-4165-b560-6485d60ae9ae",
   "metadata": {},
   "source": [
    "When lead time = 2 months"
   ]
  },
  {
   "cell_type": "code",
   "execution_count": 31,
   "id": "0178bb22-b200-4bbb-b634-7d5efdc826a4",
   "metadata": {},
   "outputs": [],
   "source": [
    "l2 = 2/12"
   ]
  },
  {
   "cell_type": "code",
   "execution_count": 32,
   "id": "ac5208c7-ad60-4664-9128-980f31f383cf",
   "metadata": {},
   "outputs": [
    {
     "data": {
      "text/plain": [
       "False"
      ]
     },
     "execution_count": 32,
     "metadata": {},
     "output_type": "execute_result"
    }
   ],
   "source": [
    "l2<t"
   ]
  },
  {
   "cell_type": "code",
   "execution_count": 33,
   "id": "a41d19d1-d93b-426a-adf0-ef075f0db29d",
   "metadata": {},
   "outputs": [],
   "source": [
    "l2_prime = l2 - 1*(eoq1/d)"
   ]
  },
  {
   "cell_type": "code",
   "execution_count": 34,
   "id": "d1090b86-591c-4911-a2dc-99d7849206c0",
   "metadata": {},
   "outputs": [
    {
     "data": {
      "text/plain": [
       "0.05712215516563343"
      ]
     },
     "execution_count": 34,
     "metadata": {},
     "output_type": "execute_result"
    }
   ],
   "source": [
    "l2_prime"
   ]
  },
  {
   "cell_type": "code",
   "execution_count": 36,
   "id": "400a3a1f-b04b-4dd4-a6bf-80372ebb251f",
   "metadata": {},
   "outputs": [],
   "source": [
    "reorder_point = l2_prime*d"
   ]
  },
  {
   "cell_type": "code",
   "execution_count": 37,
   "id": "5e742491-10fa-47fa-b278-370e00298494",
   "metadata": {},
   "outputs": [
    {
     "data": {
      "text/plain": [
       "228.48862066253372"
      ]
     },
     "execution_count": 37,
     "metadata": {},
     "output_type": "execute_result"
    }
   ],
   "source": [
    "reorder_point"
   ]
  },
  {
   "cell_type": "code",
   "execution_count": null,
   "id": "6eab0aca-f2e5-4527-b9b0-d7a9ff2c13d2",
   "metadata": {},
   "outputs": [],
   "source": []
  }
 ],
 "metadata": {
  "kernelspec": {
   "display_name": "Python 3 (ipykernel)",
   "language": "python",
   "name": "python3"
  },
  "language_info": {
   "codemirror_mode": {
    "name": "ipython",
    "version": 3
   },
   "file_extension": ".py",
   "mimetype": "text/x-python",
   "name": "python",
   "nbconvert_exporter": "python",
   "pygments_lexer": "ipython3",
   "version": "3.12.4"
  }
 },
 "nbformat": 4,
 "nbformat_minor": 5
}
