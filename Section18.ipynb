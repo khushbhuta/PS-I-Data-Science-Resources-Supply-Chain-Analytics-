{
 "cells": [
  {
   "cell_type": "code",
   "execution_count": 1,
   "id": "473f3a6e-081a-43e4-98b7-f0901fc1517d",
   "metadata": {},
   "outputs": [],
   "source": [
    "import pandas as pd\n",
    "import numpy as np\n",
    "import inventorize as inv\n",
    "import seaborn"
   ]
  },
  {
   "cell_type": "code",
   "execution_count": 4,
   "id": "9cd16c5e-528c-4e97-bf78-9ba44a6caf4b",
   "metadata": {},
   "outputs": [],
   "source": [
    "mean = 50\n",
    "sd = 10\n",
    "c = 1.2\n",
    "salvage = 0.7\n",
    "penalty_term = 0.4\n",
    "price = 3"
   ]
  },
  {
   "cell_type": "code",
   "execution_count": 5,
   "id": "284c0ec0-288c-4d4d-b4a4-a88d12c5a2bd",
   "metadata": {},
   "outputs": [
    {
     "data": {
      "text/plain": [
       "0.6"
      ]
     },
     "execution_count": 5,
     "metadata": {},
     "output_type": "execute_result"
    }
   ],
   "source": [
    "inv.CriticalRatio(price,c,0,0)"
   ]
  },
  {
   "cell_type": "code",
   "execution_count": 6,
   "id": "1b4e33b5-8527-483c-90a2-fee3d3f0b226",
   "metadata": {},
   "outputs": [
    {
     "data": {
      "text/plain": [
       "{'quantity': 52.533471031358,\n",
       " 'demand': 50,\n",
       " 'sd': 10,\n",
       " 'unitshort': 2.8500369224254065,\n",
       " 'shortagecost': 8.55011076727622,\n",
       " 'cost': 63.040165237629594,\n",
       " 'revenue': 150,\n",
       " 'profit': 78.40972399509418,\n",
       " 'soldatfullprice': 47.1499630775746,\n",
       " 'sold_discount': 5.3835079537834005}"
      ]
     },
     "execution_count": 6,
     "metadata": {},
     "output_type": "execute_result"
    }
   ],
   "source": [
    "inv.MPN_singleperiod(mean,sd,price,c,0,0)"
   ]
  },
  {
   "cell_type": "code",
   "execution_count": 7,
   "id": "e280e2cf-b4b2-4dfa-9042-c5687d427648",
   "metadata": {},
   "outputs": [
    {
     "data": {
      "text/plain": [
       "0.782608695652174"
      ]
     },
     "execution_count": 7,
     "metadata": {},
     "output_type": "execute_result"
    }
   ],
   "source": [
    "inv.CriticalRatio(price,c,salvage,0)"
   ]
  },
  {
   "cell_type": "code",
   "execution_count": 8,
   "id": "1e4967d8-c0fd-4496-a52f-9e88129a6b24",
   "metadata": {},
   "outputs": [
    {
     "data": {
      "text/plain": [
       "{'quantity': 57.81033811522709,\n",
       " 'demand': 50,\n",
       " 'sd': 10,\n",
       " 'unitshort': 1.2427768964900099,\n",
       " 'shortagecost': 2.8583868619270225,\n",
       " 'cost': 28.905169057613545,\n",
       " 'revenue': 150,\n",
       " 'profit': 83.23644408045942,\n",
       " 'soldatfullprice': 48.75722310350999,\n",
       " 'sold_discount': 9.053115011717097}"
      ]
     },
     "execution_count": 8,
     "metadata": {},
     "output_type": "execute_result"
    }
   ],
   "source": [
    "inv.MPN_singleperiod(mean,sd,price,c,salvage,0)"
   ]
  },
  {
   "cell_type": "code",
   "execution_count": 9,
   "id": "5b3a5d1c-c1e0-471c-921d-bbf6e13aa6ca",
   "metadata": {},
   "outputs": [
    {
     "data": {
      "text/plain": [
       "{'quantity': 58.957798188835895,\n",
       " 'demand': 50,\n",
       " 'sd': 10,\n",
       " 'unitshort': 1.012102766308183,\n",
       " 'shortagecost': 2.732677469032094,\n",
       " 'cost': 29.478899094417947,\n",
       " 'revenue': 150,\n",
       " 'profit': 82.78842343654995,\n",
       " 'soldatfullprice': 48.98789723369182,\n",
       " 'sold_discount': 9.969900955144077}"
      ]
     },
     "execution_count": 9,
     "metadata": {},
     "output_type": "execute_result"
    }
   ],
   "source": [
    "inv.MPN_singleperiod(mean,sd,price,c,salvage,penalty_term)"
   ]
  },
  {
   "cell_type": "code",
   "execution_count": 10,
   "id": "c7539fd1-3d75-4d74-be2c-f3a76a862011",
   "metadata": {},
   "outputs": [
    {
     "data": {
      "text/plain": [
       "{'quantity': 40,\n",
       " 'demand': 40,\n",
       " 'sd': 10,\n",
       " 'unitshort': 3.989422804014327,\n",
       " 'shortagecost': 11.968268412042981,\n",
       " 'cost': 48.0,\n",
       " 'revenue': 120,\n",
       " 'profit': 60.03173158795702,\n",
       " 'soldatfullprice': 36.010577195985675,\n",
       " 'sold_discount': 3.9894228040143247}"
      ]
     },
     "execution_count": 10,
     "metadata": {},
     "output_type": "execute_result"
    }
   ],
   "source": [
    "inv.EPN_singleperiod(40,40,10,price,c,0,0)"
   ]
  },
  {
   "cell_type": "code",
   "execution_count": 11,
   "id": "124fed20-d53b-4c08-a5a4-ac8ca81135a8",
   "metadata": {},
   "outputs": [],
   "source": [
    "import pandas as pd"
   ]
  },
  {
   "cell_type": "code",
   "execution_count": 13,
   "id": "2c6ef5af-b9dd-4a6e-a8fe-15f4ba419da6",
   "metadata": {},
   "outputs": [],
   "source": [
    "retail_clean = pd.read_csv(\"C:\\\\Users\\\\Khush Bhuta\\\\Desktop\\\\python_workspace\\\\data\\\\retail_clean.csv\")"
   ]
  },
  {
   "cell_type": "code",
   "execution_count": 14,
   "id": "3a34e62d-df1e-40e9-8c54-8691dfaf6acf",
   "metadata": {},
   "outputs": [
    {
     "data": {
      "text/html": [
       "<div>\n",
       "<style scoped>\n",
       "    .dataframe tbody tr th:only-of-type {\n",
       "        vertical-align: middle;\n",
       "    }\n",
       "\n",
       "    .dataframe tbody tr th {\n",
       "        vertical-align: top;\n",
       "    }\n",
       "\n",
       "    .dataframe thead th {\n",
       "        text-align: right;\n",
       "    }\n",
       "</style>\n",
       "<table border=\"1\" class=\"dataframe\">\n",
       "  <thead>\n",
       "    <tr style=\"text-align: right;\">\n",
       "      <th></th>\n",
       "      <th>Unnamed: 0</th>\n",
       "      <th>Invoice</th>\n",
       "      <th>StockCode</th>\n",
       "      <th>Description</th>\n",
       "      <th>Quantity</th>\n",
       "      <th>InvoiceDate</th>\n",
       "      <th>Price</th>\n",
       "      <th>Customer ID</th>\n",
       "      <th>Country</th>\n",
       "      <th>revenue</th>\n",
       "    </tr>\n",
       "  </thead>\n",
       "  <tbody>\n",
       "    <tr>\n",
       "      <th>0</th>\n",
       "      <td>0</td>\n",
       "      <td>489434</td>\n",
       "      <td>85048</td>\n",
       "      <td>15CM CHRISTMAS GLASS BALL 20 LIGHTS</td>\n",
       "      <td>12</td>\n",
       "      <td>2009-12-01 07:45:00</td>\n",
       "      <td>6.95</td>\n",
       "      <td>13085.0</td>\n",
       "      <td>United Kingdom</td>\n",
       "      <td>83.40</td>\n",
       "    </tr>\n",
       "    <tr>\n",
       "      <th>1</th>\n",
       "      <td>1</td>\n",
       "      <td>489434</td>\n",
       "      <td>79323P</td>\n",
       "      <td>PINK CHERRY LIGHTS</td>\n",
       "      <td>12</td>\n",
       "      <td>2009-12-01 07:45:00</td>\n",
       "      <td>6.75</td>\n",
       "      <td>13085.0</td>\n",
       "      <td>United Kingdom</td>\n",
       "      <td>81.00</td>\n",
       "    </tr>\n",
       "    <tr>\n",
       "      <th>2</th>\n",
       "      <td>2</td>\n",
       "      <td>489434</td>\n",
       "      <td>79323W</td>\n",
       "      <td>WHITE CHERRY LIGHTS</td>\n",
       "      <td>12</td>\n",
       "      <td>2009-12-01 07:45:00</td>\n",
       "      <td>6.75</td>\n",
       "      <td>13085.0</td>\n",
       "      <td>United Kingdom</td>\n",
       "      <td>81.00</td>\n",
       "    </tr>\n",
       "    <tr>\n",
       "      <th>3</th>\n",
       "      <td>3</td>\n",
       "      <td>489434</td>\n",
       "      <td>22041</td>\n",
       "      <td>RECORD FRAME 7\" SINGLE SIZE</td>\n",
       "      <td>48</td>\n",
       "      <td>2009-12-01 07:45:00</td>\n",
       "      <td>2.10</td>\n",
       "      <td>13085.0</td>\n",
       "      <td>United Kingdom</td>\n",
       "      <td>100.80</td>\n",
       "    </tr>\n",
       "    <tr>\n",
       "      <th>4</th>\n",
       "      <td>4</td>\n",
       "      <td>489434</td>\n",
       "      <td>21232</td>\n",
       "      <td>STRAWBERRY CERAMIC TRINKET BOX</td>\n",
       "      <td>24</td>\n",
       "      <td>2009-12-01 07:45:00</td>\n",
       "      <td>1.25</td>\n",
       "      <td>13085.0</td>\n",
       "      <td>United Kingdom</td>\n",
       "      <td>30.00</td>\n",
       "    </tr>\n",
       "    <tr>\n",
       "      <th>...</th>\n",
       "      <td>...</td>\n",
       "      <td>...</td>\n",
       "      <td>...</td>\n",
       "      <td>...</td>\n",
       "      <td>...</td>\n",
       "      <td>...</td>\n",
       "      <td>...</td>\n",
       "      <td>...</td>\n",
       "      <td>...</td>\n",
       "      <td>...</td>\n",
       "    </tr>\n",
       "    <tr>\n",
       "      <th>779490</th>\n",
       "      <td>1067366</td>\n",
       "      <td>581587</td>\n",
       "      <td>22899</td>\n",
       "      <td>CHILDREN'S APRON DOLLY GIRL</td>\n",
       "      <td>6</td>\n",
       "      <td>2011-12-09 12:50:00</td>\n",
       "      <td>2.10</td>\n",
       "      <td>12680.0</td>\n",
       "      <td>France</td>\n",
       "      <td>12.60</td>\n",
       "    </tr>\n",
       "    <tr>\n",
       "      <th>779491</th>\n",
       "      <td>1067367</td>\n",
       "      <td>581587</td>\n",
       "      <td>23254</td>\n",
       "      <td>CHILDRENS CUTLERY DOLLY GIRL</td>\n",
       "      <td>4</td>\n",
       "      <td>2011-12-09 12:50:00</td>\n",
       "      <td>4.15</td>\n",
       "      <td>12680.0</td>\n",
       "      <td>France</td>\n",
       "      <td>16.60</td>\n",
       "    </tr>\n",
       "    <tr>\n",
       "      <th>779492</th>\n",
       "      <td>1067368</td>\n",
       "      <td>581587</td>\n",
       "      <td>23255</td>\n",
       "      <td>CHILDRENS CUTLERY CIRCUS PARADE</td>\n",
       "      <td>4</td>\n",
       "      <td>2011-12-09 12:50:00</td>\n",
       "      <td>4.15</td>\n",
       "      <td>12680.0</td>\n",
       "      <td>France</td>\n",
       "      <td>16.60</td>\n",
       "    </tr>\n",
       "    <tr>\n",
       "      <th>779493</th>\n",
       "      <td>1067369</td>\n",
       "      <td>581587</td>\n",
       "      <td>22138</td>\n",
       "      <td>BAKING SET 9 PIECE RETROSPOT</td>\n",
       "      <td>3</td>\n",
       "      <td>2011-12-09 12:50:00</td>\n",
       "      <td>4.95</td>\n",
       "      <td>12680.0</td>\n",
       "      <td>France</td>\n",
       "      <td>14.85</td>\n",
       "    </tr>\n",
       "    <tr>\n",
       "      <th>779494</th>\n",
       "      <td>1067370</td>\n",
       "      <td>581587</td>\n",
       "      <td>POST</td>\n",
       "      <td>POSTAGE</td>\n",
       "      <td>1</td>\n",
       "      <td>2011-12-09 12:50:00</td>\n",
       "      <td>18.00</td>\n",
       "      <td>12680.0</td>\n",
       "      <td>France</td>\n",
       "      <td>18.00</td>\n",
       "    </tr>\n",
       "  </tbody>\n",
       "</table>\n",
       "<p>779495 rows × 10 columns</p>\n",
       "</div>"
      ],
      "text/plain": [
       "        Unnamed: 0  Invoice StockCode                          Description  \\\n",
       "0                0   489434     85048  15CM CHRISTMAS GLASS BALL 20 LIGHTS   \n",
       "1                1   489434    79323P                   PINK CHERRY LIGHTS   \n",
       "2                2   489434    79323W                  WHITE CHERRY LIGHTS   \n",
       "3                3   489434     22041         RECORD FRAME 7\" SINGLE SIZE    \n",
       "4                4   489434     21232       STRAWBERRY CERAMIC TRINKET BOX   \n",
       "...            ...      ...       ...                                  ...   \n",
       "779490     1067366   581587     22899         CHILDREN'S APRON DOLLY GIRL    \n",
       "779491     1067367   581587     23254        CHILDRENS CUTLERY DOLLY GIRL    \n",
       "779492     1067368   581587     23255      CHILDRENS CUTLERY CIRCUS PARADE   \n",
       "779493     1067369   581587     22138        BAKING SET 9 PIECE RETROSPOT    \n",
       "779494     1067370   581587      POST                              POSTAGE   \n",
       "\n",
       "        Quantity          InvoiceDate  Price  Customer ID         Country  \\\n",
       "0             12  2009-12-01 07:45:00   6.95      13085.0  United Kingdom   \n",
       "1             12  2009-12-01 07:45:00   6.75      13085.0  United Kingdom   \n",
       "2             12  2009-12-01 07:45:00   6.75      13085.0  United Kingdom   \n",
       "3             48  2009-12-01 07:45:00   2.10      13085.0  United Kingdom   \n",
       "4             24  2009-12-01 07:45:00   1.25      13085.0  United Kingdom   \n",
       "...          ...                  ...    ...          ...             ...   \n",
       "779490         6  2011-12-09 12:50:00   2.10      12680.0          France   \n",
       "779491         4  2011-12-09 12:50:00   4.15      12680.0          France   \n",
       "779492         4  2011-12-09 12:50:00   4.15      12680.0          France   \n",
       "779493         3  2011-12-09 12:50:00   4.95      12680.0          France   \n",
       "779494         1  2011-12-09 12:50:00  18.00      12680.0          France   \n",
       "\n",
       "        revenue  \n",
       "0         83.40  \n",
       "1         81.00  \n",
       "2         81.00  \n",
       "3        100.80  \n",
       "4         30.00  \n",
       "...         ...  \n",
       "779490    12.60  \n",
       "779491    16.60  \n",
       "779492    16.60  \n",
       "779493    14.85  \n",
       "779494    18.00  \n",
       "\n",
       "[779495 rows x 10 columns]"
      ]
     },
     "execution_count": 14,
     "metadata": {},
     "output_type": "execute_result"
    }
   ],
   "source": [
    "retail_clean"
   ]
  },
  {
   "cell_type": "code",
   "execution_count": 17,
   "id": "644717da-223e-4a23-b169-d9ff8aed4d55",
   "metadata": {},
   "outputs": [
    {
     "data": {
      "text/plain": [
       "Index(['Unnamed: 0', 'Invoice', 'StockCode', 'Description', 'Quantity',\n",
       "       'InvoiceDate', 'Price', 'Customer ID', 'Country', 'revenue'],\n",
       "      dtype='object')"
      ]
     },
     "execution_count": 17,
     "metadata": {},
     "output_type": "execute_result"
    }
   ],
   "source": [
    "retail_clean.columns"
   ]
  },
  {
   "cell_type": "code",
   "execution_count": 18,
   "id": "8357e094-33cc-4091-b588-9eecf84133f9",
   "metadata": {},
   "outputs": [
    {
     "name": "stdout",
     "output_type": "stream",
     "text": [
      "<class 'pandas.core.frame.DataFrame'>\n",
      "RangeIndex: 779495 entries, 0 to 779494\n",
      "Data columns (total 10 columns):\n",
      " #   Column       Non-Null Count   Dtype  \n",
      "---  ------       --------------   -----  \n",
      " 0   Unnamed: 0   779495 non-null  int64  \n",
      " 1   Invoice      779495 non-null  int64  \n",
      " 2   StockCode    779495 non-null  object \n",
      " 3   Description  779495 non-null  object \n",
      " 4   Quantity     779495 non-null  int64  \n",
      " 5   InvoiceDate  779495 non-null  object \n",
      " 6   Price        779495 non-null  float64\n",
      " 7   Customer ID  779495 non-null  float64\n",
      " 8   Country      779495 non-null  object \n",
      " 9   revenue      779495 non-null  float64\n",
      "dtypes: float64(3), int64(3), object(4)\n",
      "memory usage: 59.5+ MB\n"
     ]
    }
   ],
   "source": [
    "retail_clean.info()"
   ]
  },
  {
   "cell_type": "code",
   "execution_count": 19,
   "id": "7af85dbc-dfde-4866-aa77-e00f88691ef9",
   "metadata": {},
   "outputs": [],
   "source": [
    "retail_clean['InvoiceDate'] = pd.to_datetime(retail_clean['InvoiceDate'])"
   ]
  },
  {
   "cell_type": "code",
   "execution_count": 20,
   "id": "ba4cef93-fc22-42cd-9049-bf14ccf8bc5a",
   "metadata": {},
   "outputs": [],
   "source": [
    "retail_clean['date'] = retail_clean['InvoiceDate'].dt.strftime('%Y-%m-%d')"
   ]
  },
  {
   "cell_type": "code",
   "execution_count": 21,
   "id": "e7317926-9f5f-4f27-b9fb-8391ed3e98b5",
   "metadata": {},
   "outputs": [],
   "source": [
    "retail_clean['date'] = pd.to_datetime(retail_clean['date'])"
   ]
  },
  {
   "cell_type": "code",
   "execution_count": 22,
   "id": "dba0cb66-6919-47b8-9df3-3367d36e559b",
   "metadata": {},
   "outputs": [],
   "source": [
    "retail_clean['year'] = retail_clean['InvoiceDate'].dt.year"
   ]
  },
  {
   "cell_type": "code",
   "execution_count": 23,
   "id": "ca115a2e-8543-443d-b206-e7d1bbcadde8",
   "metadata": {},
   "outputs": [],
   "source": [
    "years_2 = retail_clean[retail_clean.year.isin([2010,2011])]"
   ]
  },
  {
   "cell_type": "code",
   "execution_count": 24,
   "id": "65a9abca-8093-42b3-af32-c860ab3fdb76",
   "metadata": {},
   "outputs": [],
   "source": [
    "total = years_2.groupby(['year','Description']).agg(total_sales = ('Quantity','sum'),\n",
    "                                           price = ('Price','mean')).reset_index()"
   ]
  },
  {
   "cell_type": "code",
   "execution_count": 25,
   "id": "75e1fe48-7181-4925-960c-8e51b198c14d",
   "metadata": {},
   "outputs": [
    {
     "data": {
      "text/html": [
       "<div>\n",
       "<style scoped>\n",
       "    .dataframe tbody tr th:only-of-type {\n",
       "        vertical-align: middle;\n",
       "    }\n",
       "\n",
       "    .dataframe tbody tr th {\n",
       "        vertical-align: top;\n",
       "    }\n",
       "\n",
       "    .dataframe thead th {\n",
       "        text-align: right;\n",
       "    }\n",
       "</style>\n",
       "<table border=\"1\" class=\"dataframe\">\n",
       "  <thead>\n",
       "    <tr style=\"text-align: right;\">\n",
       "      <th></th>\n",
       "      <th>year</th>\n",
       "      <th>Description</th>\n",
       "      <th>total_sales</th>\n",
       "      <th>price</th>\n",
       "    </tr>\n",
       "  </thead>\n",
       "  <tbody>\n",
       "    <tr>\n",
       "      <th>0</th>\n",
       "      <td>2010</td>\n",
       "      <td>DOORMAT UNION JACK GUNS AND ROSES</td>\n",
       "      <td>167</td>\n",
       "      <td>6.640196</td>\n",
       "    </tr>\n",
       "    <tr>\n",
       "      <th>1</th>\n",
       "      <td>2010</td>\n",
       "      <td>3 STRIPEY MICE FELTCRAFT</td>\n",
       "      <td>399</td>\n",
       "      <td>1.941429</td>\n",
       "    </tr>\n",
       "    <tr>\n",
       "      <th>2</th>\n",
       "      <td>2010</td>\n",
       "      <td>4 PURPLE FLOCK DINNER CANDLES</td>\n",
       "      <td>200</td>\n",
       "      <td>2.150000</td>\n",
       "    </tr>\n",
       "    <tr>\n",
       "      <th>3</th>\n",
       "      <td>2010</td>\n",
       "      <td>ANIMAL STICKERS</td>\n",
       "      <td>169</td>\n",
       "      <td>0.210000</td>\n",
       "    </tr>\n",
       "    <tr>\n",
       "      <th>4</th>\n",
       "      <td>2010</td>\n",
       "      <td>BLACK PIRATE TREASURE CHEST</td>\n",
       "      <td>6</td>\n",
       "      <td>1.650000</td>\n",
       "    </tr>\n",
       "    <tr>\n",
       "      <th>...</th>\n",
       "      <td>...</td>\n",
       "      <td>...</td>\n",
       "      <td>...</td>\n",
       "      <td>...</td>\n",
       "    </tr>\n",
       "    <tr>\n",
       "      <th>8102</th>\n",
       "      <td>2011</td>\n",
       "      <td>ZINC T-LIGHT HOLDER STARS SMALL</td>\n",
       "      <td>4894</td>\n",
       "      <td>0.836975</td>\n",
       "    </tr>\n",
       "    <tr>\n",
       "      <th>8103</th>\n",
       "      <td>2011</td>\n",
       "      <td>ZINC TOP  2 DOOR WOODEN SHELF</td>\n",
       "      <td>9</td>\n",
       "      <td>16.950000</td>\n",
       "    </tr>\n",
       "    <tr>\n",
       "      <th>8104</th>\n",
       "      <td>2011</td>\n",
       "      <td>ZINC WILLIE WINKIE  CANDLE STICK</td>\n",
       "      <td>2432</td>\n",
       "      <td>0.873833</td>\n",
       "    </tr>\n",
       "    <tr>\n",
       "      <th>8105</th>\n",
       "      <td>2011</td>\n",
       "      <td>ZINC WIRE KITCHEN ORGANISER</td>\n",
       "      <td>25</td>\n",
       "      <td>7.175000</td>\n",
       "    </tr>\n",
       "    <tr>\n",
       "      <th>8106</th>\n",
       "      <td>2011</td>\n",
       "      <td>ZINC WIRE SWEETHEART LETTER TRAY</td>\n",
       "      <td>80</td>\n",
       "      <td>3.454000</td>\n",
       "    </tr>\n",
       "  </tbody>\n",
       "</table>\n",
       "<p>8107 rows × 4 columns</p>\n",
       "</div>"
      ],
      "text/plain": [
       "      year                          Description  total_sales      price\n",
       "0     2010    DOORMAT UNION JACK GUNS AND ROSES          167   6.640196\n",
       "1     2010             3 STRIPEY MICE FELTCRAFT          399   1.941429\n",
       "2     2010        4 PURPLE FLOCK DINNER CANDLES          200   2.150000\n",
       "3     2010                      ANIMAL STICKERS          169   0.210000\n",
       "4     2010          BLACK PIRATE TREASURE CHEST            6   1.650000\n",
       "...    ...                                  ...          ...        ...\n",
       "8102  2011      ZINC T-LIGHT HOLDER STARS SMALL         4894   0.836975\n",
       "8103  2011       ZINC TOP  2 DOOR WOODEN SHELF             9  16.950000\n",
       "8104  2011     ZINC WILLIE WINKIE  CANDLE STICK         2432   0.873833\n",
       "8105  2011          ZINC WIRE KITCHEN ORGANISER           25   7.175000\n",
       "8106  2011     ZINC WIRE SWEETHEART LETTER TRAY           80   3.454000\n",
       "\n",
       "[8107 rows x 4 columns]"
      ]
     },
     "execution_count": 25,
     "metadata": {},
     "output_type": "execute_result"
    }
   ],
   "source": [
    "total"
   ]
  },
  {
   "cell_type": "code",
   "execution_count": 26,
   "id": "7af2eb91-d581-48cc-9cb1-816fdac00071",
   "metadata": {},
   "outputs": [],
   "source": [
    "expected = total.groupby(['Description']).agg(expected_demand = ('total_sales','mean'),\n",
    "                                             sd = ('total_sales','std'),\n",
    "                                             price = ('price','mean')).reset_index()"
   ]
  },
  {
   "cell_type": "code",
   "execution_count": 27,
   "id": "d042c3c9-5c10-4205-83ac-49272daddea1",
   "metadata": {},
   "outputs": [
    {
     "data": {
      "text/html": [
       "<div>\n",
       "<style scoped>\n",
       "    .dataframe tbody tr th:only-of-type {\n",
       "        vertical-align: middle;\n",
       "    }\n",
       "\n",
       "    .dataframe tbody tr th {\n",
       "        vertical-align: top;\n",
       "    }\n",
       "\n",
       "    .dataframe thead th {\n",
       "        text-align: right;\n",
       "    }\n",
       "</style>\n",
       "<table border=\"1\" class=\"dataframe\">\n",
       "  <thead>\n",
       "    <tr style=\"text-align: right;\">\n",
       "      <th></th>\n",
       "      <th>Description</th>\n",
       "      <th>expected_demand</th>\n",
       "      <th>sd</th>\n",
       "      <th>price</th>\n",
       "    </tr>\n",
       "  </thead>\n",
       "  <tbody>\n",
       "    <tr>\n",
       "      <th>0</th>\n",
       "      <td>DOORMAT UNION JACK GUNS AND ROSES</td>\n",
       "      <td>167.0</td>\n",
       "      <td>NaN</td>\n",
       "      <td>6.640196</td>\n",
       "    </tr>\n",
       "    <tr>\n",
       "      <th>1</th>\n",
       "      <td>3 STRIPEY MICE FELTCRAFT</td>\n",
       "      <td>399.0</td>\n",
       "      <td>NaN</td>\n",
       "      <td>1.941429</td>\n",
       "    </tr>\n",
       "    <tr>\n",
       "      <th>2</th>\n",
       "      <td>4 PURPLE FLOCK DINNER CANDLES</td>\n",
       "      <td>162.0</td>\n",
       "      <td>53.740115</td>\n",
       "      <td>2.224286</td>\n",
       "    </tr>\n",
       "    <tr>\n",
       "      <th>3</th>\n",
       "      <td>50'S CHRISTMAS GIFT BAG LARGE</td>\n",
       "      <td>1885.0</td>\n",
       "      <td>NaN</td>\n",
       "      <td>1.248073</td>\n",
       "    </tr>\n",
       "    <tr>\n",
       "      <th>4</th>\n",
       "      <td>ANIMAL STICKERS</td>\n",
       "      <td>169.0</td>\n",
       "      <td>NaN</td>\n",
       "      <td>0.210000</td>\n",
       "    </tr>\n",
       "    <tr>\n",
       "      <th>...</th>\n",
       "      <td>...</td>\n",
       "      <td>...</td>\n",
       "      <td>...</td>\n",
       "      <td>...</td>\n",
       "    </tr>\n",
       "    <tr>\n",
       "      <th>5146</th>\n",
       "      <td>ZINC T-LIGHT HOLDER STARS SMALL</td>\n",
       "      <td>4894.0</td>\n",
       "      <td>NaN</td>\n",
       "      <td>0.836975</td>\n",
       "    </tr>\n",
       "    <tr>\n",
       "      <th>5147</th>\n",
       "      <td>ZINC TOP  2 DOOR WOODEN SHELF</td>\n",
       "      <td>69.0</td>\n",
       "      <td>84.852814</td>\n",
       "      <td>14.753571</td>\n",
       "    </tr>\n",
       "    <tr>\n",
       "      <th>5148</th>\n",
       "      <td>ZINC WILLIE WINKIE  CANDLE STICK</td>\n",
       "      <td>2818.0</td>\n",
       "      <td>545.886435</td>\n",
       "      <td>0.860579</td>\n",
       "    </tr>\n",
       "    <tr>\n",
       "      <th>5149</th>\n",
       "      <td>ZINC WIRE KITCHEN ORGANISER</td>\n",
       "      <td>25.0</td>\n",
       "      <td>NaN</td>\n",
       "      <td>7.175000</td>\n",
       "    </tr>\n",
       "    <tr>\n",
       "      <th>5150</th>\n",
       "      <td>ZINC WIRE SWEETHEART LETTER TRAY</td>\n",
       "      <td>80.0</td>\n",
       "      <td>NaN</td>\n",
       "      <td>3.454000</td>\n",
       "    </tr>\n",
       "  </tbody>\n",
       "</table>\n",
       "<p>5151 rows × 4 columns</p>\n",
       "</div>"
      ],
      "text/plain": [
       "                              Description  expected_demand          sd  \\\n",
       "0       DOORMAT UNION JACK GUNS AND ROSES            167.0         NaN   \n",
       "1                3 STRIPEY MICE FELTCRAFT            399.0         NaN   \n",
       "2           4 PURPLE FLOCK DINNER CANDLES            162.0   53.740115   \n",
       "3           50'S CHRISTMAS GIFT BAG LARGE           1885.0         NaN   \n",
       "4                         ANIMAL STICKERS            169.0         NaN   \n",
       "...                                   ...              ...         ...   \n",
       "5146      ZINC T-LIGHT HOLDER STARS SMALL           4894.0         NaN   \n",
       "5147       ZINC TOP  2 DOOR WOODEN SHELF              69.0   84.852814   \n",
       "5148     ZINC WILLIE WINKIE  CANDLE STICK           2818.0  545.886435   \n",
       "5149          ZINC WIRE KITCHEN ORGANISER             25.0         NaN   \n",
       "5150     ZINC WIRE SWEETHEART LETTER TRAY             80.0         NaN   \n",
       "\n",
       "          price  \n",
       "0      6.640196  \n",
       "1      1.941429  \n",
       "2      2.224286  \n",
       "3      1.248073  \n",
       "4      0.210000  \n",
       "...         ...  \n",
       "5146   0.836975  \n",
       "5147  14.753571  \n",
       "5148   0.860579  \n",
       "5149   7.175000  \n",
       "5150   3.454000  \n",
       "\n",
       "[5151 rows x 4 columns]"
      ]
     },
     "execution_count": 27,
     "metadata": {},
     "output_type": "execute_result"
    }
   ],
   "source": [
    "expected"
   ]
  },
  {
   "cell_type": "code",
   "execution_count": null,
   "id": "53b8a832-9606-49b1-8b78-17315bae2e32",
   "metadata": {},
   "outputs": [],
   "source": [
    "# we must eliminate the NaN in standard deviation and we create a margin of error"
   ]
  },
  {
   "cell_type": "code",
   "execution_count": 29,
   "id": "5b9a9605-e161-447d-8ba1-c61bce6fb662",
   "metadata": {},
   "outputs": [
    {
     "data": {
      "text/plain": [
       "0              NaN\n",
       "1              NaN\n",
       "2        53.740115\n",
       "3              NaN\n",
       "4              NaN\n",
       "           ...    \n",
       "5146           NaN\n",
       "5147     84.852814\n",
       "5148    545.886435\n",
       "5149           NaN\n",
       "5150           NaN\n",
       "Name: sd, Length: 5151, dtype: float64"
      ]
     },
     "execution_count": 29,
     "metadata": {},
     "output_type": "execute_result"
    }
   ],
   "source": [
    "expected['sd']"
   ]
  },
  {
   "cell_type": "code",
   "execution_count": 30,
   "id": "0281bbcb-aa02-4dd9-8d40-035b2f4e04d2",
   "metadata": {},
   "outputs": [],
   "source": [
    "def margin_error(dataframe):\n",
    "    if(pd.isna(dataframe['sd'])):\n",
    "        a = dataframe['expected_demand']*0.1\n",
    "    else:\n",
    "        a = dataframe['sd']\n",
    "    return a"
   ]
  },
  {
   "cell_type": "code",
   "execution_count": 31,
   "id": "d36cb7f3-3997-4be2-9d4f-9b9029afc2d0",
   "metadata": {},
   "outputs": [],
   "source": [
    "expected['sd1'] = expected.apply(margin_error,axis=1)"
   ]
  },
  {
   "cell_type": "code",
   "execution_count": 32,
   "id": "c195c9f8-f01c-4797-88d8-bb0ea621b1c4",
   "metadata": {},
   "outputs": [
    {
     "data": {
      "text/plain": [
       "0        16.700000\n",
       "1        39.900000\n",
       "2        53.740115\n",
       "3       188.500000\n",
       "4        16.900000\n",
       "           ...    \n",
       "5146    489.400000\n",
       "5147     84.852814\n",
       "5148    545.886435\n",
       "5149      2.500000\n",
       "5150      8.000000\n",
       "Name: sd1, Length: 5151, dtype: float64"
      ]
     },
     "execution_count": 32,
     "metadata": {},
     "output_type": "execute_result"
    }
   ],
   "source": [
    "expected['sd1']"
   ]
  },
  {
   "cell_type": "code",
   "execution_count": 33,
   "id": "2d24b152-a9b7-4dcb-b63d-7787f73c2761",
   "metadata": {},
   "outputs": [
    {
     "data": {
      "text/html": [
       "<div>\n",
       "<style scoped>\n",
       "    .dataframe tbody tr th:only-of-type {\n",
       "        vertical-align: middle;\n",
       "    }\n",
       "\n",
       "    .dataframe tbody tr th {\n",
       "        vertical-align: top;\n",
       "    }\n",
       "\n",
       "    .dataframe thead th {\n",
       "        text-align: right;\n",
       "    }\n",
       "</style>\n",
       "<table border=\"1\" class=\"dataframe\">\n",
       "  <thead>\n",
       "    <tr style=\"text-align: right;\">\n",
       "      <th></th>\n",
       "      <th>Description</th>\n",
       "      <th>expected_demand</th>\n",
       "      <th>sd</th>\n",
       "      <th>price</th>\n",
       "      <th>sd1</th>\n",
       "    </tr>\n",
       "  </thead>\n",
       "  <tbody>\n",
       "    <tr>\n",
       "      <th>0</th>\n",
       "      <td>DOORMAT UNION JACK GUNS AND ROSES</td>\n",
       "      <td>167.0</td>\n",
       "      <td>NaN</td>\n",
       "      <td>6.640196</td>\n",
       "      <td>16.700000</td>\n",
       "    </tr>\n",
       "    <tr>\n",
       "      <th>1</th>\n",
       "      <td>3 STRIPEY MICE FELTCRAFT</td>\n",
       "      <td>399.0</td>\n",
       "      <td>NaN</td>\n",
       "      <td>1.941429</td>\n",
       "      <td>39.900000</td>\n",
       "    </tr>\n",
       "    <tr>\n",
       "      <th>2</th>\n",
       "      <td>4 PURPLE FLOCK DINNER CANDLES</td>\n",
       "      <td>162.0</td>\n",
       "      <td>53.740115</td>\n",
       "      <td>2.224286</td>\n",
       "      <td>53.740115</td>\n",
       "    </tr>\n",
       "    <tr>\n",
       "      <th>3</th>\n",
       "      <td>50'S CHRISTMAS GIFT BAG LARGE</td>\n",
       "      <td>1885.0</td>\n",
       "      <td>NaN</td>\n",
       "      <td>1.248073</td>\n",
       "      <td>188.500000</td>\n",
       "    </tr>\n",
       "    <tr>\n",
       "      <th>4</th>\n",
       "      <td>ANIMAL STICKERS</td>\n",
       "      <td>169.0</td>\n",
       "      <td>NaN</td>\n",
       "      <td>0.210000</td>\n",
       "      <td>16.900000</td>\n",
       "    </tr>\n",
       "  </tbody>\n",
       "</table>\n",
       "</div>"
      ],
      "text/plain": [
       "                           Description  expected_demand         sd     price  \\\n",
       "0    DOORMAT UNION JACK GUNS AND ROSES            167.0        NaN  6.640196   \n",
       "1             3 STRIPEY MICE FELTCRAFT            399.0        NaN  1.941429   \n",
       "2        4 PURPLE FLOCK DINNER CANDLES            162.0  53.740115  2.224286   \n",
       "3        50'S CHRISTMAS GIFT BAG LARGE           1885.0        NaN  1.248073   \n",
       "4                      ANIMAL STICKERS            169.0        NaN  0.210000   \n",
       "\n",
       "          sd1  \n",
       "0   16.700000  \n",
       "1   39.900000  \n",
       "2   53.740115  \n",
       "3  188.500000  \n",
       "4   16.900000  "
      ]
     },
     "execution_count": 33,
     "metadata": {},
     "output_type": "execute_result"
    }
   ],
   "source": [
    "expected.head()"
   ]
  },
  {
   "cell_type": "code",
   "execution_count": 35,
   "id": "bcbad298-968d-4812-ac9a-192400daeaf5",
   "metadata": {},
   "outputs": [],
   "source": [
    "empty_data = pd.DataFrame()"
   ]
  },
  {
   "cell_type": "code",
   "execution_count": 36,
   "id": "91c74fd6-2775-4298-bd69-f55c34d28ea0",
   "metadata": {},
   "outputs": [],
   "source": [
    "expected['cost'] = expected['price']*0.6"
   ]
  },
  {
   "cell_type": "code",
   "execution_count": 37,
   "id": "bbc0c93c-a363-4af9-8cc5-05cbc9db5212",
   "metadata": {
    "collapsed": true,
    "jupyter": {
     "outputs_hidden": true
    }
   },
   "outputs": [
    {
     "name": "stderr",
     "output_type": "stream",
     "text": [
      "C:\\Users\\Khush Bhuta\\AppData\\Local\\Programs\\Python\\Python312\\Lib\\site-packages\\scipy\\stats\\_distn_infrastructure.py:2246: RuntimeWarning: invalid value encountered in multiply\n",
      "  lower_bound = _a * scale + loc\n",
      "C:\\Users\\Khush Bhuta\\AppData\\Local\\Programs\\Python\\Python312\\Lib\\site-packages\\scipy\\stats\\_distn_infrastructure.py:2247: RuntimeWarning: invalid value encountered in multiply\n",
      "  upper_bound = _b * scale + loc\n",
      "C:\\Users\\Khush Bhuta\\AppData\\Local\\Programs\\Python\\Python312\\Lib\\site-packages\\scipy\\stats\\_distn_infrastructure.py:2246: RuntimeWarning: invalid value encountered in multiply\n",
      "  lower_bound = _a * scale + loc\n",
      "C:\\Users\\Khush Bhuta\\AppData\\Local\\Programs\\Python\\Python312\\Lib\\site-packages\\scipy\\stats\\_distn_infrastructure.py:2247: RuntimeWarning: invalid value encountered in multiply\n",
      "  upper_bound = _b * scale + loc\n",
      "C:\\Users\\Khush Bhuta\\AppData\\Local\\Programs\\Python\\Python312\\Lib\\site-packages\\scipy\\stats\\_distn_infrastructure.py:2246: RuntimeWarning: invalid value encountered in multiply\n",
      "  lower_bound = _a * scale + loc\n",
      "C:\\Users\\Khush Bhuta\\AppData\\Local\\Programs\\Python\\Python312\\Lib\\site-packages\\scipy\\stats\\_distn_infrastructure.py:2247: RuntimeWarning: invalid value encountered in multiply\n",
      "  upper_bound = _b * scale + loc\n",
      "C:\\Users\\Khush Bhuta\\AppData\\Local\\Programs\\Python\\Python312\\Lib\\site-packages\\scipy\\stats\\_distn_infrastructure.py:2246: RuntimeWarning: invalid value encountered in multiply\n",
      "  lower_bound = _a * scale + loc\n",
      "C:\\Users\\Khush Bhuta\\AppData\\Local\\Programs\\Python\\Python312\\Lib\\site-packages\\scipy\\stats\\_distn_infrastructure.py:2247: RuntimeWarning: invalid value encountered in multiply\n",
      "  upper_bound = _b * scale + loc\n",
      "C:\\Users\\Khush Bhuta\\AppData\\Local\\Programs\\Python\\Python312\\Lib\\site-packages\\scipy\\stats\\_distn_infrastructure.py:2246: RuntimeWarning: invalid value encountered in multiply\n",
      "  lower_bound = _a * scale + loc\n",
      "C:\\Users\\Khush Bhuta\\AppData\\Local\\Programs\\Python\\Python312\\Lib\\site-packages\\scipy\\stats\\_distn_infrastructure.py:2247: RuntimeWarning: invalid value encountered in multiply\n",
      "  upper_bound = _b * scale + loc\n",
      "C:\\Users\\Khush Bhuta\\AppData\\Local\\Programs\\Python\\Python312\\Lib\\site-packages\\scipy\\stats\\_distn_infrastructure.py:2246: RuntimeWarning: invalid value encountered in multiply\n",
      "  lower_bound = _a * scale + loc\n",
      "C:\\Users\\Khush Bhuta\\AppData\\Local\\Programs\\Python\\Python312\\Lib\\site-packages\\scipy\\stats\\_distn_infrastructure.py:2247: RuntimeWarning: invalid value encountered in multiply\n",
      "  upper_bound = _b * scale + loc\n",
      "C:\\Users\\Khush Bhuta\\AppData\\Local\\Programs\\Python\\Python312\\Lib\\site-packages\\scipy\\stats\\_distn_infrastructure.py:2246: RuntimeWarning: invalid value encountered in multiply\n",
      "  lower_bound = _a * scale + loc\n",
      "C:\\Users\\Khush Bhuta\\AppData\\Local\\Programs\\Python\\Python312\\Lib\\site-packages\\scipy\\stats\\_distn_infrastructure.py:2247: RuntimeWarning: invalid value encountered in multiply\n",
      "  upper_bound = _b * scale + loc\n",
      "C:\\Users\\Khush Bhuta\\AppData\\Local\\Programs\\Python\\Python312\\Lib\\site-packages\\scipy\\stats\\_distn_infrastructure.py:2246: RuntimeWarning: invalid value encountered in multiply\n",
      "  lower_bound = _a * scale + loc\n",
      "C:\\Users\\Khush Bhuta\\AppData\\Local\\Programs\\Python\\Python312\\Lib\\site-packages\\scipy\\stats\\_distn_infrastructure.py:2247: RuntimeWarning: invalid value encountered in multiply\n",
      "  upper_bound = _b * scale + loc\n",
      "C:\\Users\\Khush Bhuta\\AppData\\Local\\Programs\\Python\\Python312\\Lib\\site-packages\\scipy\\stats\\_distn_infrastructure.py:2246: RuntimeWarning: invalid value encountered in multiply\n",
      "  lower_bound = _a * scale + loc\n",
      "C:\\Users\\Khush Bhuta\\AppData\\Local\\Programs\\Python\\Python312\\Lib\\site-packages\\scipy\\stats\\_distn_infrastructure.py:2247: RuntimeWarning: invalid value encountered in multiply\n",
      "  upper_bound = _b * scale + loc\n",
      "C:\\Users\\Khush Bhuta\\AppData\\Local\\Programs\\Python\\Python312\\Lib\\site-packages\\scipy\\stats\\_distn_infrastructure.py:2246: RuntimeWarning: invalid value encountered in multiply\n",
      "  lower_bound = _a * scale + loc\n",
      "C:\\Users\\Khush Bhuta\\AppData\\Local\\Programs\\Python\\Python312\\Lib\\site-packages\\scipy\\stats\\_distn_infrastructure.py:2247: RuntimeWarning: invalid value encountered in multiply\n",
      "  upper_bound = _b * scale + loc\n",
      "C:\\Users\\Khush Bhuta\\AppData\\Local\\Programs\\Python\\Python312\\Lib\\site-packages\\scipy\\stats\\_distn_infrastructure.py:2246: RuntimeWarning: invalid value encountered in multiply\n",
      "  lower_bound = _a * scale + loc\n",
      "C:\\Users\\Khush Bhuta\\AppData\\Local\\Programs\\Python\\Python312\\Lib\\site-packages\\scipy\\stats\\_distn_infrastructure.py:2247: RuntimeWarning: invalid value encountered in multiply\n",
      "  upper_bound = _b * scale + loc\n",
      "C:\\Users\\Khush Bhuta\\AppData\\Local\\Programs\\Python\\Python312\\Lib\\site-packages\\scipy\\stats\\_distn_infrastructure.py:2246: RuntimeWarning: invalid value encountered in multiply\n",
      "  lower_bound = _a * scale + loc\n",
      "C:\\Users\\Khush Bhuta\\AppData\\Local\\Programs\\Python\\Python312\\Lib\\site-packages\\scipy\\stats\\_distn_infrastructure.py:2247: RuntimeWarning: invalid value encountered in multiply\n",
      "  upper_bound = _b * scale + loc\n",
      "C:\\Users\\Khush Bhuta\\AppData\\Local\\Programs\\Python\\Python312\\Lib\\site-packages\\scipy\\stats\\_distn_infrastructure.py:2246: RuntimeWarning: invalid value encountered in multiply\n",
      "  lower_bound = _a * scale + loc\n",
      "C:\\Users\\Khush Bhuta\\AppData\\Local\\Programs\\Python\\Python312\\Lib\\site-packages\\scipy\\stats\\_distn_infrastructure.py:2247: RuntimeWarning: invalid value encountered in multiply\n",
      "  upper_bound = _b * scale + loc\n",
      "C:\\Users\\Khush Bhuta\\AppData\\Local\\Programs\\Python\\Python312\\Lib\\site-packages\\scipy\\stats\\_distn_infrastructure.py:2246: RuntimeWarning: invalid value encountered in multiply\n",
      "  lower_bound = _a * scale + loc\n",
      "C:\\Users\\Khush Bhuta\\AppData\\Local\\Programs\\Python\\Python312\\Lib\\site-packages\\scipy\\stats\\_distn_infrastructure.py:2247: RuntimeWarning: invalid value encountered in multiply\n",
      "  upper_bound = _b * scale + loc\n",
      "C:\\Users\\Khush Bhuta\\AppData\\Local\\Programs\\Python\\Python312\\Lib\\site-packages\\scipy\\stats\\_distn_infrastructure.py:2246: RuntimeWarning: invalid value encountered in multiply\n",
      "  lower_bound = _a * scale + loc\n",
      "C:\\Users\\Khush Bhuta\\AppData\\Local\\Programs\\Python\\Python312\\Lib\\site-packages\\scipy\\stats\\_distn_infrastructure.py:2247: RuntimeWarning: invalid value encountered in multiply\n",
      "  upper_bound = _b * scale + loc\n",
      "C:\\Users\\Khush Bhuta\\AppData\\Local\\Programs\\Python\\Python312\\Lib\\site-packages\\scipy\\stats\\_distn_infrastructure.py:2246: RuntimeWarning: invalid value encountered in multiply\n",
      "  lower_bound = _a * scale + loc\n",
      "C:\\Users\\Khush Bhuta\\AppData\\Local\\Programs\\Python\\Python312\\Lib\\site-packages\\scipy\\stats\\_distn_infrastructure.py:2247: RuntimeWarning: invalid value encountered in multiply\n",
      "  upper_bound = _b * scale + loc\n",
      "C:\\Users\\Khush Bhuta\\AppData\\Local\\Programs\\Python\\Python312\\Lib\\site-packages\\scipy\\stats\\_distn_infrastructure.py:2246: RuntimeWarning: invalid value encountered in multiply\n",
      "  lower_bound = _a * scale + loc\n",
      "C:\\Users\\Khush Bhuta\\AppData\\Local\\Programs\\Python\\Python312\\Lib\\site-packages\\scipy\\stats\\_distn_infrastructure.py:2247: RuntimeWarning: invalid value encountered in multiply\n",
      "  upper_bound = _b * scale + loc\n",
      "C:\\Users\\Khush Bhuta\\AppData\\Local\\Programs\\Python\\Python312\\Lib\\site-packages\\scipy\\stats\\_distn_infrastructure.py:2246: RuntimeWarning: invalid value encountered in multiply\n",
      "  lower_bound = _a * scale + loc\n",
      "C:\\Users\\Khush Bhuta\\AppData\\Local\\Programs\\Python\\Python312\\Lib\\site-packages\\scipy\\stats\\_distn_infrastructure.py:2247: RuntimeWarning: invalid value encountered in multiply\n",
      "  upper_bound = _b * scale + loc\n",
      "C:\\Users\\Khush Bhuta\\AppData\\Local\\Programs\\Python\\Python312\\Lib\\site-packages\\scipy\\stats\\_distn_infrastructure.py:2246: RuntimeWarning: invalid value encountered in multiply\n",
      "  lower_bound = _a * scale + loc\n",
      "C:\\Users\\Khush Bhuta\\AppData\\Local\\Programs\\Python\\Python312\\Lib\\site-packages\\scipy\\stats\\_distn_infrastructure.py:2247: RuntimeWarning: invalid value encountered in multiply\n",
      "  upper_bound = _b * scale + loc\n",
      "C:\\Users\\Khush Bhuta\\AppData\\Local\\Programs\\Python\\Python312\\Lib\\site-packages\\scipy\\stats\\_distn_infrastructure.py:2246: RuntimeWarning: invalid value encountered in multiply\n",
      "  lower_bound = _a * scale + loc\n",
      "C:\\Users\\Khush Bhuta\\AppData\\Local\\Programs\\Python\\Python312\\Lib\\site-packages\\scipy\\stats\\_distn_infrastructure.py:2247: RuntimeWarning: invalid value encountered in multiply\n",
      "  upper_bound = _b * scale + loc\n",
      "C:\\Users\\Khush Bhuta\\AppData\\Local\\Programs\\Python\\Python312\\Lib\\site-packages\\scipy\\stats\\_distn_infrastructure.py:2246: RuntimeWarning: invalid value encountered in multiply\n",
      "  lower_bound = _a * scale + loc\n",
      "C:\\Users\\Khush Bhuta\\AppData\\Local\\Programs\\Python\\Python312\\Lib\\site-packages\\scipy\\stats\\_distn_infrastructure.py:2247: RuntimeWarning: invalid value encountered in multiply\n",
      "  upper_bound = _b * scale + loc\n",
      "C:\\Users\\Khush Bhuta\\AppData\\Local\\Programs\\Python\\Python312\\Lib\\site-packages\\scipy\\stats\\_distn_infrastructure.py:2246: RuntimeWarning: invalid value encountered in multiply\n",
      "  lower_bound = _a * scale + loc\n",
      "C:\\Users\\Khush Bhuta\\AppData\\Local\\Programs\\Python\\Python312\\Lib\\site-packages\\scipy\\stats\\_distn_infrastructure.py:2247: RuntimeWarning: invalid value encountered in multiply\n",
      "  upper_bound = _b * scale + loc\n",
      "C:\\Users\\Khush Bhuta\\AppData\\Local\\Programs\\Python\\Python312\\Lib\\site-packages\\scipy\\stats\\_distn_infrastructure.py:2246: RuntimeWarning: invalid value encountered in multiply\n",
      "  lower_bound = _a * scale + loc\n",
      "C:\\Users\\Khush Bhuta\\AppData\\Local\\Programs\\Python\\Python312\\Lib\\site-packages\\scipy\\stats\\_distn_infrastructure.py:2247: RuntimeWarning: invalid value encountered in multiply\n",
      "  upper_bound = _b * scale + loc\n",
      "C:\\Users\\Khush Bhuta\\AppData\\Local\\Programs\\Python\\Python312\\Lib\\site-packages\\scipy\\stats\\_distn_infrastructure.py:2246: RuntimeWarning: invalid value encountered in multiply\n",
      "  lower_bound = _a * scale + loc\n",
      "C:\\Users\\Khush Bhuta\\AppData\\Local\\Programs\\Python\\Python312\\Lib\\site-packages\\scipy\\stats\\_distn_infrastructure.py:2247: RuntimeWarning: invalid value encountered in multiply\n",
      "  upper_bound = _b * scale + loc\n",
      "C:\\Users\\Khush Bhuta\\AppData\\Local\\Programs\\Python\\Python312\\Lib\\site-packages\\scipy\\stats\\_distn_infrastructure.py:2246: RuntimeWarning: invalid value encountered in multiply\n",
      "  lower_bound = _a * scale + loc\n",
      "C:\\Users\\Khush Bhuta\\AppData\\Local\\Programs\\Python\\Python312\\Lib\\site-packages\\scipy\\stats\\_distn_infrastructure.py:2247: RuntimeWarning: invalid value encountered in multiply\n",
      "  upper_bound = _b * scale + loc\n",
      "C:\\Users\\Khush Bhuta\\AppData\\Local\\Programs\\Python\\Python312\\Lib\\site-packages\\scipy\\stats\\_distn_infrastructure.py:2246: RuntimeWarning: invalid value encountered in multiply\n",
      "  lower_bound = _a * scale + loc\n",
      "C:\\Users\\Khush Bhuta\\AppData\\Local\\Programs\\Python\\Python312\\Lib\\site-packages\\scipy\\stats\\_distn_infrastructure.py:2247: RuntimeWarning: invalid value encountered in multiply\n",
      "  upper_bound = _b * scale + loc\n",
      "C:\\Users\\Khush Bhuta\\AppData\\Local\\Programs\\Python\\Python312\\Lib\\site-packages\\scipy\\stats\\_distn_infrastructure.py:2246: RuntimeWarning: invalid value encountered in multiply\n",
      "  lower_bound = _a * scale + loc\n",
      "C:\\Users\\Khush Bhuta\\AppData\\Local\\Programs\\Python\\Python312\\Lib\\site-packages\\scipy\\stats\\_distn_infrastructure.py:2247: RuntimeWarning: invalid value encountered in multiply\n",
      "  upper_bound = _b * scale + loc\n",
      "C:\\Users\\Khush Bhuta\\AppData\\Local\\Programs\\Python\\Python312\\Lib\\site-packages\\scipy\\stats\\_distn_infrastructure.py:2246: RuntimeWarning: invalid value encountered in multiply\n",
      "  lower_bound = _a * scale + loc\n",
      "C:\\Users\\Khush Bhuta\\AppData\\Local\\Programs\\Python\\Python312\\Lib\\site-packages\\scipy\\stats\\_distn_infrastructure.py:2247: RuntimeWarning: invalid value encountered in multiply\n",
      "  upper_bound = _b * scale + loc\n",
      "C:\\Users\\Khush Bhuta\\AppData\\Local\\Programs\\Python\\Python312\\Lib\\site-packages\\scipy\\stats\\_distn_infrastructure.py:2246: RuntimeWarning: invalid value encountered in multiply\n",
      "  lower_bound = _a * scale + loc\n",
      "C:\\Users\\Khush Bhuta\\AppData\\Local\\Programs\\Python\\Python312\\Lib\\site-packages\\scipy\\stats\\_distn_infrastructure.py:2247: RuntimeWarning: invalid value encountered in multiply\n",
      "  upper_bound = _b * scale + loc\n",
      "C:\\Users\\Khush Bhuta\\AppData\\Local\\Programs\\Python\\Python312\\Lib\\site-packages\\scipy\\stats\\_distn_infrastructure.py:2246: RuntimeWarning: invalid value encountered in multiply\n",
      "  lower_bound = _a * scale + loc\n",
      "C:\\Users\\Khush Bhuta\\AppData\\Local\\Programs\\Python\\Python312\\Lib\\site-packages\\scipy\\stats\\_distn_infrastructure.py:2247: RuntimeWarning: invalid value encountered in multiply\n",
      "  upper_bound = _b * scale + loc\n",
      "C:\\Users\\Khush Bhuta\\AppData\\Local\\Programs\\Python\\Python312\\Lib\\site-packages\\scipy\\stats\\_distn_infrastructure.py:2246: RuntimeWarning: invalid value encountered in multiply\n",
      "  lower_bound = _a * scale + loc\n",
      "C:\\Users\\Khush Bhuta\\AppData\\Local\\Programs\\Python\\Python312\\Lib\\site-packages\\scipy\\stats\\_distn_infrastructure.py:2247: RuntimeWarning: invalid value encountered in multiply\n",
      "  upper_bound = _b * scale + loc\n"
     ]
    }
   ],
   "source": [
    "for i in range(expected.shape[0]):\n",
    "    a = inv.MPN_singleperiod(expected.loc[i,'expected_demand'],\n",
    "                            expected.loc[i,'sd1'],\n",
    "                            expected.loc[i,'price'],\n",
    "                            expected.loc[i,'cost'], 0,0)\n",
    "    b = pd.DataFrame(a,index = [0])\n",
    "    b['description'] = expected.loc[i,'Description']\n",
    "    empty_data=pd.concat([empty_data,b],axis=0)"
   ]
  },
  {
   "cell_type": "code",
   "execution_count": 42,
   "id": "de4d3df5-1bd2-441a-8b5f-68c8b4f236b8",
   "metadata": {},
   "outputs": [
    {
     "data": {
      "text/plain": [
       "quantity                          388.891451\n",
       "demand                                 399.0\n",
       "sd                                      39.9\n",
       "unitshort                          21.480197\n",
       "shortagecost                       41.702268\n",
       "cost                              453.002984\n",
       "revenue                               774.63\n",
       "profit                            279.924748\n",
       "soldatfullprice                   377.519803\n",
       "sold_discount                      11.371647\n",
       "description         3 STRIPEY MICE FELTCRAFT\n",
       "Name: 0, dtype: object"
      ]
     },
     "execution_count": 42,
     "metadata": {},
     "output_type": "execute_result"
    }
   ],
   "source": [
    "empty_data.iloc[1,:]"
   ]
  },
  {
   "cell_type": "code",
   "execution_count": null,
   "id": "4d2839b0-56bd-47db-91d9-b4e54d59925f",
   "metadata": {},
   "outputs": [],
   "source": []
  }
 ],
 "metadata": {
  "kernelspec": {
   "display_name": "Python 3 (ipykernel)",
   "language": "python",
   "name": "python3"
  },
  "language_info": {
   "codemirror_mode": {
    "name": "ipython",
    "version": 3
   },
   "file_extension": ".py",
   "mimetype": "text/x-python",
   "name": "python",
   "nbconvert_exporter": "python",
   "pygments_lexer": "ipython3",
   "version": "3.12.4"
  }
 },
 "nbformat": 4,
 "nbformat_minor": 5
}
